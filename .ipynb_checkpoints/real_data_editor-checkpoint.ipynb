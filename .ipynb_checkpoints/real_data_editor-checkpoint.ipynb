{
 "cells": [
  {
   "cell_type": "markdown",
   "metadata": {},
   "source": [
    "# To extend data one_store -> one_warehouse_stores setup"
   ]
  },
  {
   "cell_type": "code",
   "execution_count": 1,
   "metadata": {},
   "outputs": [],
   "source": [
    "from shared_imports import *\n",
    "n_stores = 3"
   ]
  },
  {
   "cell_type": "code",
   "execution_count": 2,
   "metadata": {},
   "outputs": [],
   "source": [
    "def extend_and_save(path, n_stores):\n",
    "    data = torch.load(path)\n",
    "    data_extended = data.repeat(1, n_stores, 1)\n",
    "    torch.save(data_extended, path)"
   ]
  },
  {
   "cell_type": "code",
   "execution_count": 8,
   "metadata": {},
   "outputs": [],
   "source": [
    "extend_and_save('data_files/favorita_one_warehouse/weekly_sales.pt', n_stores)"
   ]
  },
  {
   "cell_type": "markdown",
   "metadata": {},
   "source": [
    "# Analysis on items that are sold at # of stores"
   ]
  },
  {
   "cell_type": "code",
   "execution_count": 18,
   "metadata": {},
   "outputs": [
    {
     "name": "stdout",
     "output_type": "stream",
     "text": [
      "Number of items sold in exactly 1 store(s): 10\n",
      "Number of items sold in exactly 2 store(s): 25\n",
      "Number of items sold in exactly 3 store(s): 46\n",
      "Number of items sold in exactly 4 store(s): 78\n",
      "Number of items sold in exactly 5 store(s): 117\n",
      "Number of items sold in exactly 6 store(s): 161\n",
      "Number of items sold in exactly 7 store(s): 174\n",
      "Number of items sold in exactly 8 store(s): 190\n",
      "Number of items sold in exactly 9 store(s): 234\n",
      "Number of items sold in exactly 10 store(s): 221\n",
      "Number of items sold in exactly 11 store(s): 270\n",
      "Number of items sold in exactly 12 store(s): 292\n",
      "Number of items sold in exactly 13 store(s): 315\n",
      "Number of items sold in exactly 14 store(s): 265\n",
      "Number of items sold in exactly 15 store(s): 226\n",
      "Number of items sold in exactly 16 store(s): 149\n",
      "Number of items sold in exactly 17 store(s): 122\n",
      "Number of items sold in exactly 18 store(s): 82\n",
      "Number of items sold in exactly 19 store(s): 41\n",
      "Number of items sold in exactly 20 store(s): 16\n",
      "Number of items sold in exactly 21 store(s): 4\n",
      "Number of items sold in exactly 22 store(s): 2\n"
     ]
    }
   ],
   "source": [
    "# Load the CSV file\n",
    "file_path = 'data_files/favorita_one_warehouse/tensors_row_info.csv'  # Update the file path\n",
    "df = pd.read_csv(file_path)\n",
    "\n",
    "# Group by 'item_nbr' and count unique 'store_nbr' for each 'item_nbr'\n",
    "store_counts = df.groupby('item_nbr')['store_nbr'].nunique()\n",
    "\n",
    "# Determine the maximum number of stores any item is sold in\n",
    "max_stores = store_counts.max()\n",
    "\n",
    "# Initialize a dictionary to store the counts\n",
    "store_distribution = {}\n",
    "\n",
    "# Loop through each unique store count found and count how many items have that store count\n",
    "for count in range(1, max_stores + 1):\n",
    "    store_distribution[count] = (store_counts == count).sum()\n",
    "\n",
    "ct = 0\n",
    "# Printing the results\n",
    "for stores, num_items in store_distribution.items():\n",
    "    ct += stores * num_items\n",
    "    print(f\"Number of items sold in exactly {stores} store(s): {num_items}\")"
   ]
  },
  {
   "cell_type": "markdown",
   "metadata": {},
   "source": [
    "# Construct dataset from items being sold at 16 stores."
   ]
  },
  {
   "cell_type": "code",
   "execution_count": 32,
   "metadata": {},
   "outputs": [],
   "source": [
    "import pandas as pd\n",
    "import torch\n",
    "\n",
    "df = pd.read_csv('data_files/favorita/tensors_row_info.csv')\n",
    "tensor = torch.load('data_files/favorita/weekly_sales.pt')"
   ]
  },
  {
   "cell_type": "code",
   "execution_count": 33,
   "metadata": {},
   "outputs": [],
   "source": [
    "store_counts = df.groupby('item_nbr')['store_nbr'].nunique()\n",
    "items_with_many_stores = store_counts[store_counts >= 16].index"
   ]
  },
  {
   "cell_type": "code",
   "execution_count": 35,
   "metadata": {},
   "outputs": [],
   "source": [
    "filtered_df = df[df['item_nbr'].isin(items_with_many_stores)]\n",
    "pivot_df = filtered_df.pivot(index='item_nbr', columns='store_nbr', values='family')\n",
    "selected_stores = pivot_df.columns[:16]\n",
    "\n",
    "filtered_df = filtered_df[filtered_df['store_nbr'].isin(selected_stores)]\n",
    "new_tensor_shape = [len(items_with_many_stores), 16, 240]\n",
    "new_tensor = torch.zeros(new_tensor_shape)\n",
    "\n",
    "# Populate the new tensor\n",
    "for i, item in enumerate(items_with_many_stores):\n",
    "    item_data = tensor[filtered_df[filtered_df['item_nbr'] == item].index, 0, :]\n",
    "    new_tensor[i, :item_data.size(0), :] = item_data[:16]"
   ]
  },
  {
   "cell_type": "code",
   "execution_count": 36,
   "metadata": {},
   "outputs": [],
   "source": [
    "# Output the new tensor\n",
    "torch.save(new_tensor, 'data_files/favorita_one_warehouse/weekly_sales.pt')\n",
    "\n",
    "# Re-create the CSV for the new structure\n",
    "new_csv_data = filtered_df.sort_values(by=['item_nbr', 'store_nbr'])\n",
    "new_csv_data = new_csv_data.iloc[:new_tensor.numel() // 240]  # Limit the rows to match the tensor\n",
    "\n",
    "# Save the new CSV\n",
    "new_csv_data.to_csv('data_files/favorita_one_warehouse/tensors_row_info.csv', index=False)"
   ]
  },
  {
   "cell_type": "code",
   "execution_count": 87,
   "metadata": {
    "scrolled": true
   },
   "outputs": [
    {
     "name": "stdout",
     "output_type": "stream",
     "text": [
      "Filtered data has been saved successfully.\n"
     ]
    }
   ],
   "source": [
    "import pandas as pd\n",
    "import torch\n",
    "\n",
    "def filter_and_construct_data(csv_file_path, tensor_file_path, output_csv_path, output_tensor_path):\n",
    "    # Load the CSV file\n",
    "    df = pd.read_csv(csv_file_path)\n",
    "    \n",
    "    # Load the tensor\n",
    "    data_tensor = torch.load(tensor_file_path)\n",
    "    \n",
    "    # Find items sold in more than 16 different stores\n",
    "    store_counts = df.groupby('item_nbr')['store_nbr'].nunique()\n",
    "    items_more_than_16_stores = store_counts[store_counts > 16].index\n",
    "    \n",
    "    # Filter DataFrame for these items\n",
    "    filtered_df = df[df['item_nbr'].isin(items_more_than_16_stores)]\n",
    "    \n",
    "    # For each qualifying item, select data for exactly 16 stores\n",
    "    final_df = pd.DataFrame()\n",
    "    indices = []\n",
    "    for item in items_more_than_16_stores:\n",
    "        temp_df = filtered_df[filtered_df['item_nbr'] == item]\n",
    "        selected_stores = temp_df['store_nbr'].drop_duplicates().iloc[:16]  # Select the first 16 unique stores\n",
    "        selected_rows = temp_df[temp_df['store_nbr'].isin(selected_stores)]\n",
    "        final_df = pd.concat([final_df, selected_rows])\n",
    "        indices.extend(selected_rows.index.tolist())\n",
    "    \n",
    "    # Select corresponding tensors\n",
    "    final_tensor = data_tensor[indices, :, :]\n",
    "    \n",
    "    # Ensure final_tensor is of the shape [X, 16, 240] where X is the number of valid (item, store) pairs\n",
    "    final_tensor = final_tensor.view(-1, 16, 240)\n",
    "    \n",
    "    # Save the new DataFrame and tensor\n",
    "    final_df.to_csv(output_csv_path, index=False)\n",
    "    torch.save(final_tensor, output_tensor_path)\n",
    "    \n",
    "    print(\"Filtered data has been saved successfully.\")\n",
    "\n",
    "# Usage\n",
    "filter_and_construct_data('data_files/favorita/tensors_row_info.csv', 'data_files/favorita/weekly_sales.pt'\\\n",
    "                          , 'data_files/favorita_one_warehouse/tensors_row_info.csv', 'data_files/favorita_one_warehouse/weekly_sales.pt')"
   ]
  }
 ],
 "metadata": {
  "kernelspec": {
   "display_name": "NIC",
   "language": "python",
   "name": "neural_inventory_control"
  },
  "language_info": {
   "codemirror_mode": {
    "name": "ipython",
    "version": 3
   },
   "file_extension": ".py",
   "mimetype": "text/x-python",
   "name": "python",
   "nbconvert_exporter": "python",
   "pygments_lexer": "ipython3",
   "version": "3.10.4"
  },
  "vscode": {
   "interpreter": {
    "hash": "e1d1a5c79b143da8043a5a45d8e6cbc7d061ee79fad4c3bda183c9e6e328b611"
   }
  }
 },
 "nbformat": 4,
 "nbformat_minor": 2
}
