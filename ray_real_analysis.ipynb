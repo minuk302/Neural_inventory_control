{
 "cells": [
  {
   "cell_type": "code",
   "execution_count": 50,
   "metadata": {},
   "outputs": [],
   "source": [
    "import os\n",
    "import json\n",
    "import pandas as pd\n",
    "\n",
    "def collect_data(main_folder):\n",
    "    \"\"\" Collects the minimum test loss and corresponding parameters across all subfolders in the main folder. \"\"\"\n",
    "    results = []\n",
    "    context_size = 0\n",
    "    # Traverse through each subfolder in the main folder\n",
    "    for subfolder in os.listdir(main_folder):\n",
    "        subfolder_path = os.path.join(main_folder, subfolder)\n",
    "        progress_file = os.path.join(subfolder_path, 'progress.csv')\n",
    "        params_file = os.path.join(subfolder_path, 'params.json')\n",
    "        \n",
    "        # Check if both necessary files exist\n",
    "        if os.path.exists(progress_file) and os.path.exists(params_file):\n",
    "            try:\n",
    "                # Read progress.csv and find the minimum test loss\n",
    "                data = pd.read_csv(progress_file)\n",
    "                data.fillna(0, inplace=True)\n",
    "                # Read params.json\n",
    "                with open(params_file, 'r') as file:\n",
    "                    params = json.load(file)\n",
    "                    # Collect required params and the corresponding test loss\n",
    "                    result = {}\n",
    "                    if 'master_neurons' in params:\n",
    "                        result['master_neurons'] = params.get('master_neurons')\n",
    "                    result['learning_rate'] = params.get('learning_rate')\n",
    "\n",
    "                    result['best_train_loss'] = data['train_loss'].min()\n",
    "                    result['dev_loss(at best_train)'] = data[data['train_loss'] == result['best_train_loss']]['dev_loss'].iloc[0]\n",
    "                    result['best_dev_loss'] = data['dev_loss'].min()\n",
    "                    result['train_loss(at best_dev)'] = data[data['dev_loss'] == result['best_dev_loss']]['train_loss'].iloc[0]\n",
    "                    results.append(result)\n",
    "            except Exception as e:\n",
    "                print(f\"Error processing files in {subfolder_path}: {e}\")\n",
    "\n",
    "    return results\n",
    "\n",
    "def create_results_table(main_folder):\n",
    "    \"\"\" Creates a table of the minimum test losses for each combination of learning_rate, context_size, and samples. \"\"\"\n",
    "    data = collect_data(main_folder)\n",
    "    if data:\n",
    "        # Create DataFrame from collected data\n",
    "        df = pd.DataFrame(data)\n",
    "        # Group by the parameters and find the row with the minimum dev_loss\n",
    "        if 'master_neurons' in df:\n",
    "            sorted_result_df = df.sort_values(by=['master_neurons', 'learning_rate'], ascending=[True, True])\n",
    "        else:\n",
    "            sorted_result_df = df.sort_values(by='learning_rate', ascending=True)\n",
    "        pd.set_option('display.float_format', lambda x: '%.5f' % x)\n",
    "        print(sorted_result_df.to_string(index=False))\n",
    "    else:\n",
    "        print(\"No data collected. Check the contents of your directories.\")\n"
   ]
  },
  {
   "cell_type": "code",
   "execution_count": 51,
   "metadata": {},
   "outputs": [
    {
     "name": "stdout",
     "output_type": "stream",
     "text": [
      "Error processing files in /user/ml4723/Prj/NIC/ray_results_real_data_driven_net_real_data/run_2024-07-16_21-40-08/run_7fdba_00025_25_learning_rate=0.0100,master_neurons=128,samples=1_2024-07-16_21-40-08: local variable 'result' referenced before assignment\n",
      "Error processing files in /user/ml4723/Prj/NIC/ray_results_real_data_driven_net_real_data/run_2024-07-16_21-40-08/run_7fdba_00005_5_learning_rate=0.0100,master_neurons=64,samples=0_2024-07-16_21-40-08: local variable 'result' referenced before assignment\n",
      "Error processing files in /user/ml4723/Prj/NIC/ray_results_real_data_driven_net_real_data/run_2024-07-16_21-40-08/run_7fdba_00031_31_learning_rate=0.0001,master_neurons=256,samples=1_2024-07-16_21-40-08: local variable 'result' referenced before assignment\n",
      "Error processing files in /user/ml4723/Prj/NIC/ray_results_real_data_driven_net_real_data/run_2024-07-16_21-40-08/run_7fdba_00001_1_learning_rate=0.0100,master_neurons=32,samples=0_2024-07-16_21-40-08: local variable 'result' referenced before assignment\n",
      "Error processing files in /user/ml4723/Prj/NIC/ray_results_real_data_driven_net_real_data/run_2024-07-16_21-40-08/run_7fdba_00022_22_learning_rate=0.0010,master_neurons=64,samples=1_2024-07-16_21-40-08: local variable 'result' referenced before assignment\n",
      "Error processing files in /user/ml4723/Prj/NIC/ray_results_real_data_driven_net_real_data/run_2024-07-16_21-40-08/run_7fdba_00026_26_learning_rate=0.0010,master_neurons=128,samples=1_2024-07-16_21-40-08: local variable 'result' referenced before assignment\n",
      "Error processing files in /user/ml4723/Prj/NIC/ray_results_real_data_driven_net_real_data/run_2024-07-16_21-40-08/run_7fdba_00020_20_learning_rate=0.1000,master_neurons=64,samples=1_2024-07-16_21-40-08: local variable 'result' referenced before assignment\n",
      "Error processing files in /user/ml4723/Prj/NIC/ray_results_real_data_driven_net_real_data/run_2024-07-16_21-40-08/run_7fdba_00006_6_learning_rate=0.0010,master_neurons=64,samples=0_2024-07-16_21-40-08: local variable 'result' referenced before assignment\n",
      "Error processing files in /user/ml4723/Prj/NIC/ray_results_real_data_driven_net_real_data/run_2024-07-16_21-40-08/run_7fdba_00004_4_learning_rate=0.1000,master_neurons=64,samples=0_2024-07-16_21-40-08: local variable 'result' referenced before assignment\n",
      "Error processing files in /user/ml4723/Prj/NIC/ray_results_real_data_driven_net_real_data/run_2024-07-16_21-40-08/run_7fdba_00017_17_learning_rate=0.0100,master_neurons=32,samples=1_2024-07-16_21-40-08: local variable 'result' referenced before assignment\n",
      "Error processing files in /user/ml4723/Prj/NIC/ray_results_real_data_driven_net_real_data/run_2024-07-16_21-40-08/run_7fdba_00024_24_learning_rate=0.1000,master_neurons=128,samples=1_2024-07-16_21-40-08: local variable 'result' referenced before assignment\n",
      "Error processing files in /user/ml4723/Prj/NIC/ray_results_real_data_driven_net_real_data/run_2024-07-16_21-40-08/run_7fdba_00003_3_learning_rate=0.0001,master_neurons=32,samples=0_2024-07-16_21-40-08: local variable 'result' referenced before assignment\n",
      "Error processing files in /user/ml4723/Prj/NIC/ray_results_real_data_driven_net_real_data/run_2024-07-16_21-40-08/run_7fdba_00015_15_learning_rate=0.0001,master_neurons=256,samples=0_2024-07-16_21-40-08: local variable 'result' referenced before assignment\n",
      "Error processing files in /user/ml4723/Prj/NIC/ray_results_real_data_driven_net_real_data/run_2024-07-16_21-40-08/run_7fdba_00011_11_learning_rate=0.0001,master_neurons=128,samples=0_2024-07-16_21-40-08: local variable 'result' referenced before assignment\n",
      "Error processing files in /user/ml4723/Prj/NIC/ray_results_real_data_driven_net_real_data/run_2024-07-16_21-40-08/run_7fdba_00021_21_learning_rate=0.0100,master_neurons=64,samples=1_2024-07-16_21-40-08: local variable 'result' referenced before assignment\n",
      "Error processing files in /user/ml4723/Prj/NIC/ray_results_real_data_driven_net_real_data/run_2024-07-16_21-40-08/run_7fdba_00029_29_learning_rate=0.0100,master_neurons=256,samples=1_2024-07-16_21-40-08: local variable 'result' referenced before assignment\n",
      "Error processing files in /user/ml4723/Prj/NIC/ray_results_real_data_driven_net_real_data/run_2024-07-16_21-40-08/run_7fdba_00030_30_learning_rate=0.0010,master_neurons=256,samples=1_2024-07-16_21-40-08: local variable 'result' referenced before assignment\n",
      "Error processing files in /user/ml4723/Prj/NIC/ray_results_real_data_driven_net_real_data/run_2024-07-16_21-40-08/run_7fdba_00002_2_learning_rate=0.0010,master_neurons=32,samples=0_2024-07-16_21-40-08: local variable 'result' referenced before assignment\n",
      "Error processing files in /user/ml4723/Prj/NIC/ray_results_real_data_driven_net_real_data/run_2024-07-16_21-40-08/run_7fdba_00027_27_learning_rate=0.0001,master_neurons=128,samples=1_2024-07-16_21-40-08: local variable 'result' referenced before assignment\n",
      "Error processing files in /user/ml4723/Prj/NIC/ray_results_real_data_driven_net_real_data/run_2024-07-16_21-40-08/run_7fdba_00008_8_learning_rate=0.1000,master_neurons=128,samples=0_2024-07-16_21-40-08: local variable 'result' referenced before assignment\n",
      "Error processing files in /user/ml4723/Prj/NIC/ray_results_real_data_driven_net_real_data/run_2024-07-16_21-40-08/run_7fdba_00000_0_learning_rate=0.1000,master_neurons=32,samples=0_2024-07-16_21-40-08: local variable 'result' referenced before assignment\n",
      "Error processing files in /user/ml4723/Prj/NIC/ray_results_real_data_driven_net_real_data/run_2024-07-16_21-40-08/run_7fdba_00019_19_learning_rate=0.0001,master_neurons=32,samples=1_2024-07-16_21-40-08: local variable 'result' referenced before assignment\n",
      "Error processing files in /user/ml4723/Prj/NIC/ray_results_real_data_driven_net_real_data/run_2024-07-16_21-40-08/run_7fdba_00016_16_learning_rate=0.1000,master_neurons=32,samples=1_2024-07-16_21-40-08: local variable 'result' referenced before assignment\n",
      "Error processing files in /user/ml4723/Prj/NIC/ray_results_real_data_driven_net_real_data/run_2024-07-16_21-40-08/run_7fdba_00010_10_learning_rate=0.0010,master_neurons=128,samples=0_2024-07-16_21-40-08: local variable 'result' referenced before assignment\n",
      "Error processing files in /user/ml4723/Prj/NIC/ray_results_real_data_driven_net_real_data/run_2024-07-16_21-40-08/run_7fdba_00014_14_learning_rate=0.0010,master_neurons=256,samples=0_2024-07-16_21-40-08: local variable 'result' referenced before assignment\n",
      "Error processing files in /user/ml4723/Prj/NIC/ray_results_real_data_driven_net_real_data/run_2024-07-16_21-40-08/run_7fdba_00018_18_learning_rate=0.0010,master_neurons=32,samples=1_2024-07-16_21-40-08: local variable 'result' referenced before assignment\n",
      "Error processing files in /user/ml4723/Prj/NIC/ray_results_real_data_driven_net_real_data/run_2024-07-16_21-40-08/run_7fdba_00013_13_learning_rate=0.0100,master_neurons=256,samples=0_2024-07-16_21-40-08: local variable 'result' referenced before assignment\n",
      "Error processing files in /user/ml4723/Prj/NIC/ray_results_real_data_driven_net_real_data/run_2024-07-16_21-40-08/run_7fdba_00028_28_learning_rate=0.1000,master_neurons=256,samples=1_2024-07-16_21-40-08: local variable 'result' referenced before assignment\n",
      "Error processing files in /user/ml4723/Prj/NIC/ray_results_real_data_driven_net_real_data/run_2024-07-16_21-40-08/run_7fdba_00009_9_learning_rate=0.0100,master_neurons=128,samples=0_2024-07-16_21-40-08: local variable 'result' referenced before assignment\n",
      "Error processing files in /user/ml4723/Prj/NIC/ray_results_real_data_driven_net_real_data/run_2024-07-16_21-40-08/run_7fdba_00007_7_learning_rate=0.0001,master_neurons=64,samples=0_2024-07-16_21-40-08: local variable 'result' referenced before assignment\n",
      "Error processing files in /user/ml4723/Prj/NIC/ray_results_real_data_driven_net_real_data/run_2024-07-16_21-40-08/run_7fdba_00012_12_learning_rate=0.1000,master_neurons=256,samples=0_2024-07-16_21-40-08: local variable 'result' referenced before assignment\n",
      "Error processing files in /user/ml4723/Prj/NIC/ray_results_real_data_driven_net_real_data/run_2024-07-16_21-40-08/run_7fdba_00023_23_learning_rate=0.0001,master_neurons=64,samples=1_2024-07-16_21-40-08: local variable 'result' referenced before assignment\n",
      "No data collected. Check the contents of your directories.\n"
     ]
    }
   ],
   "source": [
    "create_results_table('/user/ml4723/Prj/NIC/ray_results_real_data_driven_net_real_data/run_2024-07-16_21-40-08')"
   ]
  },
  {
   "cell_type": "code",
   "execution_count": 46,
   "metadata": {},
   "outputs": [
    {
     "name": "stdout",
     "output_type": "stream",
     "text": [
      " learning_rate  best_train_loss  dev_loss(at best_train)  best_dev_loss  train_loss(at best_dev)\n",
      "       0.10000         -0.01288                -17.31028      -17.31028                 -0.01288\n",
      "       0.10000        -27.08281               -189.87652     -189.87652                -27.08281\n",
      "       0.10000         -0.19917                  8.54292        0.00000                  0.00000\n",
      "       0.10000         -0.00060                 -0.66399       -0.66399                 -0.00060\n",
      "       0.01000       -363.38139               -330.81579     -332.40706               -352.92551\n",
      "       0.01000       -253.88563               -260.02346     -261.21962               -253.67092\n",
      "       0.01000       -369.85943               -338.41176     -338.60149               -367.98205\n",
      "       0.01000       -283.63767               -243.42511     -255.54825               -254.06949\n",
      "       0.00100          0.00000                  0.00000        0.00000                  0.00000\n",
      "       0.00100       -414.61866               -344.42537     -358.11203               -406.41297\n",
      "       0.00100       -423.62699               -321.39473     -351.54730               -405.59714\n",
      "       0.00100       -364.84151               -331.34718     -332.80395               -364.75819\n",
      "       0.00010       -328.08413               -258.87899     -258.87899               -328.08413\n",
      "       0.00010       -387.20982               -316.48830     -322.87196               -371.44722\n",
      "       0.00010       -384.92125               -316.62712     -322.38249               -380.26535\n",
      "       0.00010       -294.44796               -196.24351     -196.61141               -293.95203\n",
      "       0.00001       -109.47387                 -3.51074      -10.44436                -10.55865\n",
      "       0.00001         -2.10252                 -2.11105       -2.11105                 -2.10252\n",
      "       0.00001       -285.53259               -177.24217     -177.93759               -267.27114\n",
      "       0.00001         -2.97386                 -2.98470       -2.98470                 -2.97386\n"
     ]
    }
   ],
   "source": [
    "create_results_table('/user/ml4723/Prj/NIC/ray_results_real_symmetry_aware_real_data/run_2024-07-16_21-40-19')"
   ]
  }
 ],
 "metadata": {
  "kernelspec": {
   "display_name": "Python 3.10.4 ('neural_inventory_control')",
   "language": "python",
   "name": "python3"
  },
  "language_info": {
   "codemirror_mode": {
    "name": "ipython",
    "version": 3
   },
   "file_extension": ".py",
   "mimetype": "text/x-python",
   "name": "python",
   "nbconvert_exporter": "python",
   "pygments_lexer": "ipython3",
   "version": "3.10.4"
  },
  "orig_nbformat": 4,
  "vscode": {
   "interpreter": {
    "hash": "295131613949c3a10f810057b447f8c1d2f9ae56e2b2c791b6162e59dbe65d0e"
   }
  }
 },
 "nbformat": 4,
 "nbformat_minor": 2
}
