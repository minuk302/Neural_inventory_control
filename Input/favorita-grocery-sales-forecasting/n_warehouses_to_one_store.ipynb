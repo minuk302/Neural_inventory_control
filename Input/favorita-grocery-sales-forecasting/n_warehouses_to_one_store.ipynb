{
 "cells": [
  {
   "cell_type": "code",
   "execution_count": 29,
   "metadata": {},
   "outputs": [
    {
     "name": "stdout",
     "output_type": "stream",
     "text": [
      "Data shape: torch.Size([109, 33856, 171])\n",
      "Flattened data shape: torch.Size([5014, 1, 171])\n"
     ]
    }
   ],
   "source": [
    "import torch\n",
    "data = torch.load('/user/ml4723/Prj/NIC/data_files/favorita_one_warehouse/weekly_sales.pt')\n",
    "print(f\"Data shape: {data.shape}\")\n",
    "data_flattened = data[:, :46, :].reshape(-1, 1, 171)\n",
    "print(f\"Flattened data shape: {data_flattened.shape}\")\n",
    "torch.save(data_flattened, '/user/ml4723/Prj/NIC/data_files/favorita_one_warehouse/weekly_sales_one_store.pt')"
   ]
  },
  {
   "cell_type": "code",
   "execution_count": 28,
   "metadata": {},
   "outputs": [
    {
     "name": "stdout",
     "output_type": "stream",
     "text": [
      "torch.Size([5014, 171])\n"
     ]
    }
   ],
   "source": [
    "data = torch.load('/user/ml4723/Prj/NIC/data_files/favorita_one_warehouse/weekly_sales_one_store.pt')\n",
    "print(data.shape)\n"
   ]
  },
  {
   "cell_type": "code",
   "execution_count": 1,
   "metadata": {},
   "outputs": [
    {
     "name": "stderr",
     "output_type": "stream",
     "text": [
      "/user/ml4723/.conda/envs/neural_inventory_control/lib/python3.10/site-packages/pandas/core/computation/expressions.py:21: UserWarning: Pandas requires version '2.8.4' or newer of 'numexpr' (version '2.8.3' currently installed).\n",
      "  from pandas.core.computation.check import NUMEXPR_INSTALLED\n",
      "/user/ml4723/.conda/envs/neural_inventory_control/lib/python3.10/site-packages/pandas/core/arrays/masked.py:60: UserWarning: Pandas requires version '1.3.6' or newer of 'bottleneck' (version '1.3.5' currently installed).\n",
      "  from pandas.core import (\n",
      "/user/ml4723/Prj/NIC/data_handling.py:425: UserWarning: To copy construct from a tensor, it is recommended to use sourceTensor.clone().detach() or sourceTensor.clone().detach().requires_grad_(True), rather than torch.tensor(sourceTensor).\n",
      "  return torch.tensor(demand)\n"
     ]
    }
   ],
   "source": [
    "from main_run import MainRun\n",
    "import yaml\n",
    "\n",
    "def load_yaml(file_path):\n",
    "    with open(file_path, 'r') as file:\n",
    "        return yaml.safe_load(file)\n",
    "config_setting = load_yaml(f'/user/ml4723/Prj/NIC/config_files/settings/n_warehouse_46_1_real_lost_demand.yml')\n",
    "config_hyperparams = load_yaml(f'/user/ml4723/Prj/NIC/config_files/policies_and_hyperparams/data_driven_net.yml')\n",
    "\n",
    "main_run = MainRun(\"train\", config_setting, config_hyperparams, None, None, None, True)"
   ]
  },
  {
   "cell_type": "code",
   "execution_count": 31,
   "metadata": {},
   "outputs": [],
   "source": [
    "import torch\n",
    "torch.save(main_run.train_dataset.data['holding_costs'].reshape(-1,1), '/user/ml4723/Prj/NIC/data_files/favorita_one_warehouse/holding_costs.pt')"
   ]
  },
  {
   "cell_type": "code",
   "execution_count": 5,
   "metadata": {},
   "outputs": [
    {
     "data": {
      "text/plain": [
       "tensor([[10.2367],\n",
       "        [ 9.3307],\n",
       "        [ 6.9748],\n",
       "        ...,\n",
       "        [ 8.8369],\n",
       "        [10.1384],\n",
       "        [ 6.4412]])"
      ]
     },
     "execution_count": 5,
     "metadata": {},
     "output_type": "execute_result"
    }
   ],
   "source": [
    "main_run.train_dataset.data['underage_costs'].reshape(-1,1)"
   ]
  },
  {
   "cell_type": "code",
   "execution_count": 32,
   "metadata": {},
   "outputs": [],
   "source": [
    "torch.save(main_run.train_dataset.data['underage_costs'].reshape(-1,1), '/user/ml4723/Prj/NIC/data_files/favorita_one_warehouse/underage_costs.pt')"
   ]
  },
  {
   "cell_type": "code",
   "execution_count": null,
   "metadata": {},
   "outputs": [],
   "source": [
    "torch.save(main_run.train_dataset.data['warehouse_store_edge_lead_times'].reshape(-1, 1, 1).squeeze(1,2), '/user/ml4723/Prj/NIC/data_files/favorita_one_warehouse/lead_times.pt')"
   ]
  }
 ],
 "metadata": {
  "kernelspec": {
   "display_name": "neural_inventory_control",
   "language": "python",
   "name": "python3"
  },
  "language_info": {
   "codemirror_mode": {
    "name": "ipython",
    "version": 3
   },
   "file_extension": ".py",
   "mimetype": "text/x-python",
   "name": "python",
   "nbconvert_exporter": "python",
   "pygments_lexer": "ipython3",
   "version": "3.10.4"
  }
 },
 "nbformat": 4,
 "nbformat_minor": 2
}
