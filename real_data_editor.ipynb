{
 "cells": [
  {
   "cell_type": "code",
   "execution_count": 1,
   "metadata": {},
   "outputs": [],
   "source": [
    "from shared_imports import *\n",
    "n_stores = 3"
   ]
  },
  {
   "cell_type": "code",
   "execution_count": 10,
   "metadata": {},
   "outputs": [],
   "source": [
    "def extend_and_save(path, n_stores):\n",
    "    data = torch.load(path)\n",
    "    data_extended = data.repeat(1, n_stores, 1)\n",
    "    torch.save(data_extended, path)"
   ]
  },
  {
   "cell_type": "code",
   "execution_count": 14,
   "metadata": {},
   "outputs": [],
   "source": [
    "extend_and_save('data_files/favorita_one_warehouse/weekly_sales.pt', n_stores)"
   ]
  },
  {
   "cell_type": "code",
   "execution_count": 10,
   "metadata": {},
   "outputs": [
    {
     "name": "stdout",
     "output_type": "stream",
     "text": [
      "Number of items sold in exactly 1 store(s): 10\n",
      "Number of items sold in exactly 2 store(s): 25\n",
      "Number of items sold in exactly 3 store(s): 46\n",
      "Number of items sold in exactly 4 store(s): 78\n",
      "Number of items sold in exactly 5 store(s): 117\n",
      "Number of items sold in exactly 6 store(s): 161\n",
      "Number of items sold in exactly 7 store(s): 174\n",
      "Number of items sold in exactly 8 store(s): 190\n",
      "Number of items sold in exactly 9 store(s): 234\n",
      "Number of items sold in exactly 10 store(s): 221\n",
      "Number of items sold in exactly 11 store(s): 270\n",
      "Number of items sold in exactly 12 store(s): 292\n",
      "Number of items sold in exactly 13 store(s): 315\n",
      "Number of items sold in exactly 14 store(s): 265\n",
      "Number of items sold in exactly 15 store(s): 226\n",
      "Number of items sold in exactly 16 store(s): 149\n",
      "Number of items sold in exactly 17 store(s): 122\n",
      "Number of items sold in exactly 18 store(s): 82\n",
      "Number of items sold in exactly 19 store(s): 41\n",
      "Number of items sold in exactly 20 store(s): 16\n",
      "Number of items sold in exactly 21 store(s): 4\n",
      "Number of items sold in exactly 22 store(s): 2\n"
     ]
    }
   ],
   "source": [
    "# Load the CSV file\n",
    "file_path = 'data_files/favorita_one_warehouse/tensors_row_info.csv'  # Update the file path\n",
    "df = pd.read_csv(file_path)\n",
    "\n",
    "# Group by 'item_nbr' and count unique 'store_nbr' for each 'item_nbr'\n",
    "store_counts = df.groupby('item_nbr')['store_nbr'].nunique()\n",
    "\n",
    "# Determine the maximum number of stores any item is sold in\n",
    "max_stores = store_counts.max()\n",
    "\n",
    "# Initialize a dictionary to store the counts\n",
    "store_distribution = {}\n",
    "\n",
    "# Loop through each unique store count found and count how many items have that store count\n",
    "for count in range(1, max_stores + 1):\n",
    "    store_distribution[count] = (store_counts == count).sum()\n",
    "\n",
    "ct = 0\n",
    "# Printing the results\n",
    "for stores, num_items in store_distribution.items():\n",
    "    ct += stores * num_items\n",
    "    print(f\"Number of items sold in exactly {stores} store(s): {num_items}\")\n",
    "\n",
    "print(ct)"
   ]
  }
 ],
 "metadata": {
  "kernelspec": {
   "display_name": "Python 3.10.10 ('cloudspace')",
   "language": "python",
   "name": "python3"
  },
  "language_info": {
   "codemirror_mode": {
    "name": "ipython",
    "version": 3
   },
   "file_extension": ".py",
   "mimetype": "text/x-python",
   "name": "python",
   "nbconvert_exporter": "python",
   "pygments_lexer": "ipython3",
   "version": "3.10.14"
  },
  "orig_nbformat": 4,
  "vscode": {
   "interpreter": {
    "hash": "e1d1a5c79b143da8043a5a45d8e6cbc7d061ee79fad4c3bda183c9e6e328b611"
   }
  }
 },
 "nbformat": 4,
 "nbformat_minor": 2
}
