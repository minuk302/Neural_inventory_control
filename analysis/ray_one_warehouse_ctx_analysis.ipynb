{
 "cells": [
  {
   "cell_type": "code",
   "execution_count": 1,
   "metadata": {},
   "outputs": [
    {
     "name": "stderr",
     "output_type": "stream",
     "text": [
      "/user/ml4723/.conda/envs/neural_inventory_control/lib/python3.10/site-packages/pandas/core/computation/expressions.py:21: UserWarning: Pandas requires version '2.8.4' or newer of 'numexpr' (version '2.8.3' currently installed).\n",
      "  from pandas.core.computation.check import NUMEXPR_INSTALLED\n",
      "/user/ml4723/.conda/envs/neural_inventory_control/lib/python3.10/site-packages/pandas/core/arrays/masked.py:60: UserWarning: Pandas requires version '1.3.6' or newer of 'bottleneck' (version '1.3.5' currently installed).\n",
      "  from pandas.core import (\n"
     ]
    }
   ],
   "source": [
    "%load_ext autoreload\n",
    "%autoreload 2\n",
    "\n",
    "import analysis.ray_results_interpreter as rri\n",
    "from importlib import reload\n",
    "import pandas as pd\n",
    "\n",
    "from ray.tune import ExperimentAnalysis\n",
    "import pandas as pd\n",
    "import matplotlib.pyplot as plt"
   ]
  },
  {
   "cell_type": "code",
   "execution_count": 4,
   "metadata": {},
   "outputs": [
    {
     "name": "stdout",
     "output_type": "stream",
     "text": [
      " # of stores                                      Architecture Class  Train Loss  Dev Loss  Test Loss  Test Gap %  # of runs\n",
      "           3                                          symmetry_aware    5.441705  5.425934   5.439808  100.050157         15\n",
      "           3 symmetry_aware_store_orders_for_warehouse_decentralized    5.462402  5.438934   5.456735  100.361483         20\n",
      "           3                                                     GNN    5.440909  5.422350   5.437080  100.000000         15\n",
      "           3                  symmetry_aware_omit_context_from_store    5.447811  5.428859   5.443842  100.124351         15\n",
      "           3                             GNN_omit_context_from_store    5.450683  5.427612   5.442544  100.100485         15\n",
      "           3               symmetry_aware_store_orders_for_warehouse    5.440957  5.424813   5.438750  100.030706         15\n",
      "          10                                          symmetry_aware    5.405793  5.409995   5.410093  100.110665         15\n",
      "          10                                                     GNN    5.404830  5.404581   5.404113  100.000000         15\n",
      "          10                  symmetry_aware_omit_context_from_store    5.415894  5.414996   5.415318  100.207344         15\n",
      "          10 symmetry_aware_store_orders_for_warehouse_decentralized    5.421807  5.420166   5.420794  100.308684         20\n",
      "          10                             GNN_omit_context_from_store    5.416623  5.414194   5.413144  100.167109         15\n",
      "          10               symmetry_aware_store_orders_for_warehouse    5.404743  5.407762   5.408554  100.082177         15\n",
      "          50               symmetry_aware_store_orders_for_warehouse    4.973715  4.972668   4.974824  100.148608         15\n",
      "          50                  symmetry_aware_omit_context_from_store    4.976476  4.975881   4.978059  100.213736         15\n",
      "          50                                                     GNN    4.981668  4.980961   4.982586  100.304868         15\n",
      "          50                                          symmetry_aware    4.978871  4.977442   4.980256  100.257969         15\n",
      "          50                             GNN_omit_context_from_store    4.977836  4.977120   4.980045  100.253707         15\n",
      "          50 symmetry_aware_store_orders_for_warehouse_decentralized    4.967456  4.965085   4.967442  100.000000         20\n"
     ]
    }
   ],
   "source": [
    "sort_by = 'test_loss'\n",
    "pick_row_from_run_by = 'dev_loss'\n",
    "def custom_data_filler(out_row, reference_row):\n",
    "    pass\n",
    "\n",
    "# Paths for different architectures under ctx_analysis\n",
    "base_paths = {\n",
    "    'symmetry_aware': '/user/ml4723/Prj/NIC/ray_results/ctx_analysis/symmetry_aware',\n",
    "    'GNN': '/user/ml4723/Prj/NIC/ray_results/ctx_analysis/GNN',\n",
    "    'symmetry_aware_omit_context_from_store': '/user/ml4723/Prj/NIC/ray_results/ctx_analysis/symmetry_aware_omit_context_from_store',\n",
    "    'GNN_omit_context_from_store': '/user/ml4723/Prj/NIC/ray_results/ctx_analysis/GNN_omit_context_from_store',\n",
    "    'symmetry_aware_store_orders_for_warehouse': '/user/ml4723/Prj/NIC/ray_results/ctx_analysis/symmetry_aware_store_orders_for_warehouse',\n",
    "    'symmetry_aware_store_orders_for_warehouse_decentralized': '/user/ml4723/Prj/NIC/ray_results/ctx_analysis/symmetry_aware_store_orders_for_warehouse_decentralized'\n",
    "}\n",
    "\n",
    "# Create paths dictionary with store numbers\n",
    "paths = {}\n",
    "store_numbers = [3, 10, 50]\n",
    "for arch_name, base_path in base_paths.items():\n",
    "    for n_stores in store_numbers:\n",
    "        key = (arch_name, n_stores)\n",
    "        paths[key] = f\"{base_path}/{n_stores}\"\n",
    "\n",
    "results_interpretor = rri.RayResultsinterpreter()\n",
    "\n",
    "# Create dataframes for each architecture and store number\n",
    "dfs = []\n",
    "for (arch_name, n_stores), path in paths.items():\n",
    "    df = results_interpretor.make_table({n_stores: path}, \n",
    "                                      {'samples': [1]}, \n",
    "                                      custom_data_filler, \n",
    "                                      sort_by=sort_by, \n",
    "                                      pick_row_from_run_by=pick_row_from_run_by)\n",
    "    df.insert(1, 'Architecture Class', arch_name)\n",
    "    dfs.append(df)\n",
    "\n",
    "# Combine all dataframes\n",
    "df = pd.concat(dfs)\n",
    "\n",
    "df.sort_values(by=['# of stores'], inplace=True)\n",
    "\n",
    "min_test_loss = df.groupby(['# of stores'])['Test Loss'].transform('min')\n",
    "df['Test Gap %'] = (df['Test Loss']/ min_test_loss) * 100\n",
    "# Format numeric columns to be more readable\n",
    "# numeric_columns = ['Train Loss', 'Dev Loss', 'Test Loss', 'Test Gap %']\n",
    "# for col in numeric_columns:\n",
    "#     df[col] = df[col].map('{:.3f}'.format)\n",
    "\n",
    "# Drop '# of runs' column\n",
    "df = df.drop(['samples', 'Learning Rate'], axis=1)\n",
    "\n",
    "# Move '# of runs' column to the rightmost\n",
    "cols = list(df.columns)\n",
    "cols.remove('# of runs')\n",
    "cols.append('# of runs')\n",
    "df = df[cols]\n",
    "\n",
    "print(df.to_string(index=False))"
   ]
  },
  {
   "cell_type": "code",
   "execution_count": 26,
   "metadata": {},
   "outputs": [
    {
     "name": "stdout",
     "output_type": "stream",
     "text": [
      "Number of rows with train loss < 0.01: 2\n",
      "Total number of rows: 15\n",
      "Percentage: 13.33%\n"
     ]
    }
   ],
   "source": [
    "results_interpretor = rri.RayResultsinterpreter()\n",
    "# Filter for GNN architecture with 3 stores\n",
    "gnn_df = results_interpretor.make_table({50: base_paths['symmetry_aware'] + '/50'}, \n",
    "                                      {'repeats': [1,2,3,4,5], 'learning_rate': [0.01, 0.001, 0.0001, 0.00001]}, \n",
    "                                      custom_data_filler,\n",
    "                                      sort_by=sort_by,\n",
    "                                      pick_row_from_run_by=pick_row_from_run_by)\n",
    "\n",
    "# Count rows with train loss < 0.01\n",
    "low_loss_count = len(gnn_df[gnn_df['Train Loss'] > 10.0])\n",
    "total_rows = len(gnn_df)\n",
    "percentage = (low_loss_count / total_rows) * 100\n",
    "\n",
    "print(f\"Number of rows with train loss < 0.01: {low_loss_count}\")\n",
    "print(f\"Total number of rows: {total_rows}\")\n",
    "print(f\"Percentage: {percentage:.2f}%\")\n"
   ]
  }
 ],
 "metadata": {
  "kernelspec": {
   "display_name": "neural_inventory_control",
   "language": "python",
   "name": "python3"
  },
  "language_info": {
   "codemirror_mode": {
    "name": "ipython",
    "version": 3
   },
   "file_extension": ".py",
   "mimetype": "text/x-python",
   "name": "python",
   "nbconvert_exporter": "python",
   "pygments_lexer": "ipython3",
   "version": "3.10.4"
  }
 },
 "nbformat": 4,
 "nbformat_minor": 2
}
