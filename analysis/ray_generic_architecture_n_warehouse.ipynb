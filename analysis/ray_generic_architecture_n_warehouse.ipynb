{
 "cells": [
  {
   "cell_type": "code",
   "execution_count": 22,
   "metadata": {},
   "outputs": [
    {
     "name": "stdout",
     "output_type": "stream",
     "text": [
      "The autoreload extension is already loaded. To reload it, use:\n",
      "  %reload_ext autoreload\n"
     ]
    }
   ],
   "source": [
    "%load_ext autoreload\n",
    "%autoreload 2\n",
    "\n",
    "import os\n",
    "import json\n",
    "import copy\n",
    "import pandas as pd\n",
    "import matplotlib.pyplot as plt\n",
    "import numpy as np\n",
    "from sklearn.linear_model import LinearRegression\n",
    "import ray_results_interpreter as rri\n",
    "import subprocess\n",
    "import concurrent.futures\n",
    "from main_run import MainRun"
   ]
  },
  {
   "cell_type": "code",
   "execution_count": 31,
   "metadata": {},
   "outputs": [
    {
     "name": "stdout",
     "output_type": "stream",
     "text": [
      "One warehouse n stores real data(46 stores, 109 samples)\n",
      "   store_underage_cost Architecture Class  train_n_samples  Train Loss  Dev Loss  Test Loss  Test Gap %\n",
      "0                    8                GNN            32768    5.346495  5.345672   7.955832   47.711513\n",
      "0                    8            GNN_pna            32768    5.393600  5.387563   5.386061    0.000000\n",
      "0                    8         Vanilla NN            32768    5.390981  5.392766   5.396614    0.195945\n"
     ]
    },
    {
     "data": {
      "image/png": "[encoded data removed]",
      "text/plain": [
       "<Figure size 1000x600 with 1 Axes>"
      ]
     },
     "metadata": {},
     "output_type": "display_data"
    }
   ],
   "source": [
    "# Define color scheme for architecture types\n",
    "color_scheme = {\n",
    "    \"GNN\": \"#d62728\",  # red\n",
    "    \"GNN_pna\": \"#2ca02c\",  # green\n",
    "    \"Vanilla NN\": \"#1f77b4\",  # Blue\n",
    "}\n",
    "\n",
    "linestyle_scheme = {\n",
    "    \"GNN\": \"-\",\n",
    "    \"GNN_pna\": \"-\",\n",
    "    \"Vanilla NN\": \"-\",\n",
    "}\n",
    "\n",
    "path = 'generic_architecture_n_warehouse'\n",
    "gnn_paths = {\n",
    "    10: f'/user/ml4723/Prj/NIC/ray_results/{path}/GNN',\n",
    "}\n",
    "gnn_pna_paths = {\n",
    "    10: f'/user/ml4723/Prj/NIC/ray_results/{path}/GNN_pna',\n",
    "}\n",
    "vanilla_nn_paths = {\n",
    "    10: f'/user/ml4723/Prj/NIC/ray_results/{path}/vanilla_n_warehouses',\n",
    "}\n",
    "def custom_data_filler(out_row, reference_row):\n",
    "    out_row['path'] = reference_row['path']\n",
    "\n",
    "def default_condition_setter(condition_name):\n",
    "    return None\n",
    "\n",
    "sort_by = 'dev_loss'\n",
    "pick_row_from_run_by = 'dev_loss'\n",
    "store_underage_cost = [8]\n",
    "results_interpretor = rri.RayResultsinterpreter()\n",
    "\n",
    "# GNN\n",
    "df_gnn = results_interpretor.make_table(gnn_paths,\n",
    "    {'store_underage_cost': store_underage_cost, 'train_n_samples': 32768},\n",
    "    default_condition_setter, custom_data_filler, sort_by=sort_by, pick_row_from_run_by=pick_row_from_run_by)\n",
    "df_gnn.insert(1, 'Architecture Class', \"GNN\")\n",
    "df_gnn.insert(1, 'hyperparam_name', \"GNN\")\n",
    "\n",
    "# GNN PNA\n",
    "df_gnn_pna = results_interpretor.make_table(gnn_pna_paths,\n",
    "    {'store_underage_cost': store_underage_cost, 'train_n_samples': 32768},\n",
    "    default_condition_setter, custom_data_filler, sort_by=sort_by, pick_row_from_run_by=pick_row_from_run_by)\n",
    "df_gnn_pna.insert(1, 'Architecture Class', \"GNN_pna\")\n",
    "df_gnn_pna.insert(1, 'hyperparam_name', \"GNN_pna\")\n",
    "\n",
    "# Vanilla NN\n",
    "df_vanilla = results_interpretor.make_table(vanilla_nn_paths,\n",
    "    {'store_underage_cost': store_underage_cost, 'train_n_samples': 32768},\n",
    "    default_condition_setter, custom_data_filler, sort_by=sort_by, pick_row_from_run_by=pick_row_from_run_by)\n",
    "df_vanilla.insert(1, 'Architecture Class', \"Vanilla NN\")\n",
    "df_vanilla.insert(1, 'hyperparam_name', \"vanilla_n_warehouses\")\n",
    "\n",
    "# Combine dataframes\n",
    "df = pd.concat([\n",
    "    df_gnn, df_gnn_pna, df_vanilla\n",
    "])\n",
    "\n",
    "min_test_loss = df.groupby(['store_underage_cost'])['Test Loss'].transform('min')\n",
    "df['Test Gap %'] = ((df['Test Loss'] - min_test_loss) / min_test_loss) * 100\n",
    "df.insert(df.columns.get_loc(df.columns[-2]), 'Test Gap %', df.pop('Test Gap %'))\n",
    "df.drop(columns=['# of stores'], inplace=True)\n",
    "df.sort_values(by=['store_underage_cost', 'Architecture Class'], inplace=True)\n",
    "cols = df.columns.tolist()\n",
    "cols.remove('store_underage_cost')\n",
    "cols = ['store_underage_cost'] + cols\n",
    "df = df[cols]\n",
    "\n",
    "df_to_print = df.copy()\n",
    "df_to_print.drop(columns=['hyperparam_name', 'Learning Rate', 'path', '# of runs'], inplace=True)\n",
    "print(\"One warehouse n stores real data(46 stores, 109 samples)\")\n",
    "print(df_to_print.to_string())\n",
    "\n",
    "# Create plot for Test Gap % vs Underage Cost\n",
    "fig, ax = plt.subplots(figsize=(10, 6))\n",
    "\n",
    "# Plot for Test Gap % - take best performing one (highest Test Gap %) for each group\n",
    "pivot_df = df.groupby(['store_underage_cost', 'Architecture Class'])['Test Gap %'].min().unstack()\n",
    "\n",
    "for column in pivot_df.columns:\n",
    "    ax.plot(pivot_df.index.to_numpy(), pivot_df[column].to_numpy(),\n",
    "            marker='o',\n",
    "            label=column,\n",
    "            color=color_scheme[column],\n",
    "            linestyle=linestyle_scheme[column])\n",
    "\n",
    "ax.set_xlabel('Store Underage Cost')\n",
    "ax.set_ylabel('Test Gap %')\n",
    "ax.set_title('Test Gap % vs Underage Cost')\n",
    "ax.legend(bbox_to_anchor=(1.05, 1), loc='upper left')\n",
    "ax.grid(True)\n",
    "ax.set_xticks(pivot_df.index)\n",
    "\n",
    "plt.tight_layout()\n",
    "plt.show()"
   ]
  },
  {
   "cell_type": "code",
   "execution_count": 6,
   "metadata": {},
   "outputs": [
    {
     "name": "stdout",
     "output_type": "stream",
     "text": [
      "GNN_MP improves Vanilla NN by -3.82% in Dev Loss on average\n"
     ]
    }
   ],
   "source": [
    "# Calculate average improvement of GNN_MP over other architectures in Dev Loss across all underage costs\n",
    "architectures = ['Vanilla NN']\n",
    "improvements = {}\n",
    "\n",
    "for arch in architectures:\n",
    "    # Get Dev Loss for each architecture and GNN_MP for all underage costs\n",
    "    arch_losses = df[df['Architecture Class'] == arch]['Dev Loss']\n",
    "    gnn_losses = df[df['Architecture Class'] == 'GNN']['Dev Loss']\n",
    "    \n",
    "    # Calculate relative improvement for each underage cost and average\n",
    "    if not arch_losses.empty and not gnn_losses.empty:\n",
    "        improvements = []\n",
    "        for arch_loss, gnn_loss in zip(arch_losses, gnn_losses):\n",
    "            improvement = ((arch_loss - gnn_loss) / arch_loss) * 100\n",
    "            improvements.append(improvement)\n",
    "        avg_improvement = sum(improvements) / len(improvements)\n",
    "        print(f\"GNN_MP improves {arch} by {avg_improvement:.2f}% in Dev Loss on average\")"
   ]
  },
  {
   "cell_type": "code",
   "execution_count": 8,
   "metadata": {},
   "outputs": [
    {
     "name": "stdout",
     "output_type": "stream",
     "text": [
      "One warehouse n stores real data(46 stores, 109 samples)\n",
      "   store_underage_cost Architecture Class  train_n_samples  Train Loss  Dev Loss  Test Loss  Test Gap %\n",
      "0                    8                GNN               16    5.326170  5.345250   5.750079    0.000000\n",
      "0                    8         Vanilla NN               16    5.275868  6.227479   6.536829   13.682412\n"
     ]
    },
    {
     "data": {
      "image/png": "[encoded data removed]",
      "text/plain": [
       "<Figure size 1000x600 with 1 Axes>"
      ]
     },
     "metadata": {},
     "output_type": "display_data"
    }
   ],
   "source": [
    "# Define color scheme for architecture types\n",
    "color_scheme = {\n",
    "    \"GNN\": \"#d62728\",  # red\n",
    "    \"Vanilla NN\": \"#1f77b4\",  # Blue\n",
    "}\n",
    "\n",
    "linestyle_scheme = {\n",
    "    \"GNN\": \"-\",\n",
    "    \"Vanilla NN\": \"-\",\n",
    "}\n",
    "\n",
    "path = 'generic_architecture_n_warehouse'\n",
    "gnn_paths = {\n",
    "    10: f'/user/ml4723/Prj/NIC/ray_results/{path}/GNN',\n",
    "}\n",
    "vanilla_nn_paths = {\n",
    "    10: f'/user/ml4723/Prj/NIC/ray_results/{path}/vanilla_n_warehouses',\n",
    "}\n",
    "def custom_data_filler(out_row, reference_row):\n",
    "    out_row['path'] = reference_row['path']\n",
    "\n",
    "def default_condition_setter(condition_name):\n",
    "    return None\n",
    "\n",
    "sort_by = 'dev_loss'\n",
    "pick_row_from_run_by = 'dev_loss'\n",
    "store_underage_cost = [8]\n",
    "results_interpretor = rri.RayResultsinterpreter()\n",
    "\n",
    "# GNN\n",
    "df_gnn = results_interpretor.make_table(gnn_paths,\n",
    "    {'store_underage_cost': store_underage_cost, 'train_n_samples': 16},\n",
    "    default_condition_setter, custom_data_filler, sort_by=sort_by, pick_row_from_run_by=pick_row_from_run_by)\n",
    "df_gnn.insert(1, 'Architecture Class', \"GNN\")\n",
    "df_gnn.insert(1, 'hyperparam_name', \"GNN\")\n",
    "\n",
    "# Vanilla NN\n",
    "df_vanilla = results_interpretor.make_table(vanilla_nn_paths,\n",
    "    {'store_underage_cost': store_underage_cost, 'train_n_samples': 16},\n",
    "    default_condition_setter, custom_data_filler, sort_by=sort_by, pick_row_from_run_by=pick_row_from_run_by)\n",
    "df_vanilla.insert(1, 'Architecture Class', \"Vanilla NN\")\n",
    "df_vanilla.insert(1, 'hyperparam_name', \"vanilla_n_warehouses\")\n",
    "\n",
    "# Combine dataframes\n",
    "df = pd.concat([\n",
    "    df_gnn, df_vanilla\n",
    "])\n",
    "\n",
    "min_test_loss = df.groupby(['store_underage_cost'])['Test Loss'].transform('min')\n",
    "df['Test Gap %'] = ((df['Test Loss'] - min_test_loss) / min_test_loss) * 100\n",
    "df.insert(df.columns.get_loc(df.columns[-2]), 'Test Gap %', df.pop('Test Gap %'))\n",
    "df.drop(columns=['# of stores'], inplace=True)\n",
    "df.sort_values(by=['store_underage_cost', 'Architecture Class'], inplace=True)\n",
    "cols = df.columns.tolist()\n",
    "cols.remove('store_underage_cost')\n",
    "cols = ['store_underage_cost'] + cols\n",
    "df = df[cols]\n",
    "\n",
    "df_to_print = df.copy()\n",
    "df_to_print.drop(columns=['hyperparam_name', 'Learning Rate', 'path', '# of runs'], inplace=True)\n",
    "print(\"One warehouse n stores real data(46 stores, 109 samples)\")\n",
    "print(df_to_print.to_string())\n",
    "\n",
    "# Create plot for Test Gap % vs Underage Cost\n",
    "fig, ax = plt.subplots(figsize=(10, 6))\n",
    "\n",
    "# Plot for Test Gap % - take best performing one (highest Test Gap %) for each group\n",
    "pivot_df = df.groupby(['store_underage_cost', 'Architecture Class'])['Test Gap %'].min().unstack()\n",
    "\n",
    "for column in pivot_df.columns:\n",
    "    ax.plot(pivot_df.index.to_numpy(), pivot_df[column].to_numpy(),\n",
    "            marker='o',\n",
    "            label=column,\n",
    "            color=color_scheme[column],\n",
    "            linestyle=linestyle_scheme[column])\n",
    "\n",
    "ax.set_xlabel('Store Underage Cost')\n",
    "ax.set_ylabel('Test Gap %')\n",
    "ax.set_title('Test Gap % vs Underage Cost')\n",
    "ax.legend(bbox_to_anchor=(1.05, 1), loc='upper left')\n",
    "ax.grid(True)\n",
    "ax.set_xticks(pivot_df.index)\n",
    "\n",
    "plt.tight_layout()\n",
    "plt.show()  "
   ]
  },
  {
   "cell_type": "code",
   "execution_count": 8,
   "metadata": {},
   "outputs": [
    {
     "name": "stdout",
     "output_type": "stream",
     "text": [
      "GNN_MP improves Vanilla NN by 17.89% in Dev Loss on average\n"
     ]
    }
   ],
   "source": [
    "# Calculate average improvement of GNN_MP over other architectures in Dev Loss across all underage costs\n",
    "architectures = ['Vanilla NN']\n",
    "improvements = {}\n",
    "\n",
    "for arch in architectures:\n",
    "    # Get Dev Loss for each architecture and GNN_MP for all underage costs\n",
    "    arch_losses = df[df['Architecture Class'] == arch]['Dev Loss']\n",
    "    gnn_losses = df[df['Architecture Class'] == 'GNN']['Dev Loss']\n",
    "    \n",
    "    # Calculate relative improvement for each underage cost and average\n",
    "    if not arch_losses.empty and not gnn_losses.empty:\n",
    "        improvements = []\n",
    "        for arch_loss, gnn_loss in zip(arch_losses, gnn_losses):\n",
    "            improvement = ((arch_loss - gnn_loss) / arch_loss) * 100\n",
    "            improvements.append(improvement)\n",
    "        avg_improvement = sum(improvements) / len(improvements)\n",
    "        print(f\"GNN_MP improves {arch} by {avg_improvement:.2f}% in Dev Loss on average\")"
   ]
  }
 ],
 "metadata": {
  "kernelspec": {
   "display_name": "neural_inventory_control",
   "language": "python",
   "name": "python3"
  },
  "language_info": {
   "codemirror_mode": {
    "name": "ipython",
    "version": 3
   },
   "file_extension": ".py",
   "mimetype": "text/x-python",
   "name": "python",
   "nbconvert_exporter": "python",
   "pygments_lexer": "ipython3",
   "version": "3.10.4"
  }
 },
 "nbformat": 4,
 "nbformat_minor": 2
}
