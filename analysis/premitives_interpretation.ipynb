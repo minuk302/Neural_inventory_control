{
 "cells": [
  {
   "cell_type": "code",
   "execution_count": 1,
   "metadata": {},
   "outputs": [],
   "source": [
    "import os\n",
    "import json\n",
    "import pandas as pd\n",
    "import matplotlib.pyplot as plt\n",
    "import numpy as np\n",
    "from sklearn.linear_model import LinearRegression"
   ]
  },
  {
   "cell_type": "code",
   "execution_count": null,
   "metadata": {},
   "outputs": [],
   "source": [
    "\n",
    "def cut_ignored_indices(n_stores, axs, comparison_text, ctx, inv):\n",
    "    segments = []\n",
    "    for index in range(4):\n",
    "        begin_index = index * (1024 * 500)\n",
    "        next_index = (index+1) * (1024 * 500)\n",
    "        ignore_idx = 1024 * 300\n",
    "        segments.append((begin_index + ignore_idx -1, next_index-1))\n",
    "\n",
    "    ctx_data = np.concatenate([ctx[start:end] for start, end in segments])\n",
    "    inv_data = np.concatenate([inv[start:end] for start, end in segments])\n",
    "    indices = np.random.choice(inv_data.shape[0], size=1500, replace=False)\n",
    "\n",
    "    filtered_inv = inv_data[indices]\n",
    "    filtered_ctx = ctx_data[indices]\n",
    "    axs.scatter(filtered_inv, filtered_ctx, s=5)\n",
    "    axs.set_title(f'n_stores = {n_stores}, {comparison_text} vs Context')\n",
    "    axs.set_xlabel(comparison_text)\n",
    "    axs.set_ylabel('Context')\n",
    "\n",
    "    X = filtered_inv\n",
    "    Y = filtered_ctx\n",
    "    X = X.reshape(-1, 1)\n",
    "    model = LinearRegression()\n",
    "    model.fit(X, Y)\n",
    "\n",
    "    # Generate evenly spaced values between the min and max of X\n",
    "    X_fit = np.linspace(filtered_inv.min(), filtered_inv.max(), 100).reshape(-1, 1)\n",
    "\n",
    "    # Predict using the model for these values\n",
    "    Y_fit = model.predict(X_fit)\n",
    "    axs.plot(X_fit, Y_fit, color='red', linewidth=1, label='Regression line')\n",
    "\n",
    "def draw_plot(n_stores):\n",
    "    # mode = 'orders'\n",
    "    # mode = 'totalinv'\n",
    "    mode = 'eachinv'\n",
    "\n",
    "    if mode == 'orders':\n",
    "        fig, axs = plt.subplots(1, 2, figsize=(12, 5))\n",
    "        df = pd.read_csv(f'../ctxanalysis/{n_stores}.csv')\n",
    "        cut_ignored_indices(n_stores, axs[0], \"Stores Order\", df['ctx'].values, df['store_order'].values)\n",
    "        cut_ignored_indices(n_stores, axs[1], \"Warehouse Order\", df['ctx'].values, df['warehouse_order'].values)\n",
    "    elif mode == 'totalinv':\n",
    "        fig, axs = plt.subplots(1, 1, figsize=(6, 5))\n",
    "        df = pd.read_csv(f'../ctxanalysis/{n_stores}.csv')\n",
    "        cut_ignored_indices(n_stores, axs, \"Total inventory\", df['ctx'].values, df['inv'].values)\n",
    "    elif mode == 'eachinv':\n",
    "        fig, axs = plt.subplots(1, 2, figsize=(12, 5))\n",
    "        df = pd.read_csv(f'../ctxanalysis/{n_stores}.csv')\n",
    "        cut_ignored_indices(n_stores, axs[0], \"Stores Inventory\", df['ctx'].values, df['store_inv'].values)\n",
    "        cut_ignored_indices(n_stores, axs[1], \"Warehouse Inventory\", df['ctx'].values, df['warehouse_inv'].values)\n",
    "\n",
    "    plt.tight_layout()\n",
    "    plt.show()"
   ]
  }
 ],
 "metadata": {
  "kernelspec": {
   "display_name": "neural_inventory_control",
   "language": "python",
   "name": "python3"
  },
  "language_info": {
   "codemirror_mode": {
    "name": "ipython",
    "version": 3
   },
   "file_extension": ".py",
   "mimetype": "text/x-python",
   "name": "python",
   "nbconvert_exporter": "python",
   "pygments_lexer": "ipython3",
   "version": "3.10.4"
  }
 },
 "nbformat": 4,
 "nbformat_minor": 2
}
