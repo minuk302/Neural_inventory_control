{
 "cells": [
  {
   "cell_type": "code",
   "execution_count": 65,
   "metadata": {},
   "outputs": [],
   "source": [
    "import os\n",
    "import json\n",
    "import pandas as pd\n",
    "\n",
    "def collect_data(main_folder):\n",
    "    \"\"\" Collects the minimum test loss and corresponding parameters across all subfolders in the main folder. \"\"\"\n",
    "    results = []\n",
    "    context_size = 0\n",
    "    # Traverse through each subfolder in the main folder\n",
    "    for subfolder in os.listdir(main_folder):\n",
    "        subfolder_path = os.path.join(main_folder, subfolder)\n",
    "        progress_file = os.path.join(subfolder_path, 'progress.csv')\n",
    "        params_file = os.path.join(subfolder_path, 'params.json')\n",
    "        \n",
    "        # Check if both necessary files exist\n",
    "        if os.path.exists(progress_file) and os.path.exists(params_file):\n",
    "            try:\n",
    "                # Read progress.csv and find the minimum test loss\n",
    "                data = pd.read_csv(progress_file)\n",
    "                if 'test_loss' in data.columns:\n",
    "                    min_loss = data['test_loss'].min()\n",
    "                    # Read params.json\n",
    "                    with open(params_file, 'r') as file:\n",
    "                        params = json.load(file)\n",
    "                        context_size = params.get('context_size')\n",
    "                        # Collect required params and the corresponding test loss\n",
    "                        result = {\n",
    "                            'learning_rate': params.get('learning_rate'),\n",
    "                            'best_test_loss': min_loss\n",
    "                        }\n",
    "                        results.append(result)\n",
    "            except Exception as e:\n",
    "                print(f\"Error processing files in {subfolder_path}: {e}\")\n",
    "\n",
    "    return results, context_size\n",
    "\n",
    "def create_results_table(main_folder):\n",
    "    \"\"\" Creates a table of the minimum test losses for each combination of learning_rate, context_size, and samples. \"\"\"\n",
    "    data, context_size = collect_data(main_folder)\n",
    "    if data:\n",
    "        # Create DataFrame from collected data\n",
    "        df = pd.DataFrame(data)\n",
    "        # Group by the parameters and find the row with the minimum test_loss\n",
    "        result_df = df.groupby(['learning_rate']).agg({'best_test_loss': 'min'}).reset_index()\n",
    "        sorted_result_df = df.sort_values(by='best_test_loss', ascending=True).reset_index()\n",
    "        print(f'context_size : {context_size}')\n",
    "        print(sorted_result_df)\n",
    "    else:\n",
    "        print(\"No data collected. Check the contents of your directories.\")\n"
   ]
  },
  {
   "cell_type": "code",
   "execution_count": 66,
   "metadata": {},
   "outputs": [
    {
     "name": "stdout",
     "output_type": "stream",
     "text": [
      "context_size : 8\n",
      "   index  learning_rate  best_test_loss\n",
      "0      5         0.0010        5.604943\n",
      "1      6         0.0010        7.172198\n",
      "2      8         0.0005        7.583963\n",
      "3      2         0.0100        7.768374\n",
      "4      4         0.0005        8.799016\n",
      "5      7         0.0005        9.354083\n",
      "6      0         0.0100       11.646391\n",
      "7      3         0.0010       12.060120\n",
      "8      1         0.0100       36.306425\n"
     ]
    }
   ],
   "source": [
    "create_results_table(os.getcwd() + '/ray_results/run_2024-07-11_05-11-10')"
   ]
  },
  {
   "cell_type": "code",
   "execution_count": 67,
   "metadata": {},
   "outputs": [
    {
     "name": "stdout",
     "output_type": "stream",
     "text": [
      "context_size : 4\n",
      "    index  learning_rate  best_test_loss\n",
      "0       4         0.0005        5.605410\n",
      "1       1         0.0010        6.441049\n",
      "2       7         0.0010        7.344255\n",
      "3       2         0.0005        7.762958\n",
      "4       9         0.0010        8.088158\n",
      "5       5         0.0100       11.489364\n",
      "6       8         0.0100       11.512672\n",
      "7      10         0.0010       13.766644\n",
      "8       0         0.0100       14.642271\n",
      "9       3         0.0100       16.623400\n",
      "10      6         0.0005       30.744198\n"
     ]
    }
   ],
   "source": [
    "create_results_table('/user/ml4723/Prj/NIC/ray_results/run_2024-07-11_11-39-40')"
   ]
  },
  {
   "cell_type": "code",
   "execution_count": 68,
   "metadata": {},
   "outputs": [
    {
     "name": "stdout",
     "output_type": "stream",
     "text": [
      "context_size : 2\n",
      "    index  learning_rate  best_test_loss\n",
      "0       4         0.0005        6.900608\n",
      "1       1         0.0010        7.325198\n",
      "2      10         0.0005        7.735133\n",
      "3      14         0.0010        7.857705\n",
      "4       8         0.0010        8.699912\n",
      "5       2         0.0100       10.317407\n",
      "6       0         0.0100       11.460215\n",
      "7       3         0.0005       12.818644\n",
      "8       9         0.0100       13.487335\n",
      "9       6         0.0005       16.386970\n",
      "10      5         0.0100       16.590300\n",
      "11      7         0.0010       16.957243\n",
      "12     13         0.0010       18.019910\n",
      "13     11         0.0005       18.183999\n",
      "14     12         0.0100       25.067751\n"
     ]
    }
   ],
   "source": [
    "create_results_table('/user/ml4723/Prj/NIC/ray_results/run_2024-07-11_17-01-38')"
   ]
  },
  {
   "cell_type": "markdown",
   "metadata": {},
   "source": [
    "# Below is for n_stores = 50"
   ]
  },
  {
   "cell_type": "code",
   "execution_count": 69,
   "metadata": {},
   "outputs": [
    {
     "name": "stdout",
     "output_type": "stream",
     "text": [
      "context_size : 128\n",
      "   index  learning_rate  best_test_loss\n",
      "0      1         0.0005        5.412806\n",
      "1      4         0.0010        5.415018\n",
      "2      0         0.0005        5.506853\n",
      "3      5         0.0010        5.781743\n",
      "4      3         0.0100        7.152602\n",
      "5      2         0.0100       16.189754\n"
     ]
    }
   ],
   "source": [
    "create_results_table('/user/ml4723/Prj/NIC/ray_results/run_2024-07-11_05-27-18')"
   ]
  },
  {
   "cell_type": "code",
   "execution_count": 70,
   "metadata": {},
   "outputs": [
    {
     "name": "stdout",
     "output_type": "stream",
     "text": [
      "context_size : 64\n",
      "   index  learning_rate  best_test_loss\n",
      "0      0         0.0010        5.409906\n",
      "1      5         0.0005        7.076955\n",
      "2      4         0.0010        7.972043\n",
      "3      3         0.0005        8.897128\n",
      "4      1         0.0100       11.613703\n",
      "5      2         0.0100       17.898005\n"
     ]
    }
   ],
   "source": [
    "create_results_table('/user/ml4723/Prj/NIC/ray_results/run_2024-07-11_07-52-50')"
   ]
  },
  {
   "cell_type": "code",
   "execution_count": 71,
   "metadata": {},
   "outputs": [
    {
     "name": "stdout",
     "output_type": "stream",
     "text": [
      "context_size : 32\n",
      "   index  learning_rate  best_test_loss\n",
      "0      3         0.0005        5.411628\n",
      "1      2         0.0010        7.393025\n",
      "2      1         0.0100       16.262605\n",
      "3      0         0.0100       16.342239\n"
     ]
    }
   ],
   "source": [
    "create_results_table('/user/ml4723/Prj/NIC/ray_results/run_2024-07-11_09-41-43')"
   ]
  },
  {
   "cell_type": "code",
   "execution_count": 72,
   "metadata": {},
   "outputs": [
    {
     "name": "stdout",
     "output_type": "stream",
     "text": [
      "context_size : 16\n",
      "    index  learning_rate  best_test_loss\n",
      "0      13         0.0010        5.412956\n",
      "1       7         0.0005        6.980137\n",
      "2       3         0.0005        7.714144\n",
      "3       4         0.0005        8.068696\n",
      "4       6         0.0010        8.379202\n",
      "5       5         0.0010        8.604063\n",
      "6      12         0.0005       11.359692\n",
      "7      14         0.0010       13.784768\n",
      "8       9         0.0100       14.719614\n",
      "9      11         0.0100       15.860225\n",
      "10      0         0.0100       16.307592\n",
      "11      8         0.0005       16.750998\n",
      "12     10         0.0100       19.036855\n",
      "13      2         0.0100       21.494105\n",
      "14      1         0.0010       22.327871\n"
     ]
    }
   ],
   "source": [
    "create_results_table('/user/ml4723/Prj/NIC/ray_results/run_2024-07-11_11-52-10')"
   ]
  },
  {
   "cell_type": "code",
   "execution_count": 73,
   "metadata": {},
   "outputs": [
    {
     "name": "stdout",
     "output_type": "stream",
     "text": [
      "context_size : 8\n",
      "    index  learning_rate  best_test_loss\n",
      "0       9         0.0010        5.413410\n",
      "1       2         0.0010        7.537731\n",
      "2      10         0.0005        7.735478\n",
      "3       1         0.0005        8.919952\n",
      "4       7         0.0005       10.710806\n",
      "5       6         0.0100       11.243040\n",
      "6       8         0.0010       13.570966\n",
      "7       4         0.0100       13.993180\n",
      "8       3         0.0100       16.343363\n",
      "9       5         0.0100       22.620466\n",
      "10      0         0.0010       36.146848\n"
     ]
    }
   ],
   "source": [
    "create_results_table('/user/ml4723/Prj/NIC/ray_results/run_2024-07-11_19-32-22')"
   ]
  },
  {
   "cell_type": "code",
   "execution_count": 74,
   "metadata": {},
   "outputs": [
    {
     "name": "stdout",
     "output_type": "stream",
     "text": [
      "context_size : 4\n",
      "   index  learning_rate  best_test_loss\n",
      "0      2         0.0010        6.828720\n",
      "1      4         0.0100        8.461158\n",
      "2      7         0.0005        8.570793\n",
      "3      3         0.0005       10.900044\n",
      "4      1         0.0010       11.167397\n",
      "5      6         0.0010       15.930729\n",
      "6      0         0.0100       20.107402\n",
      "7      9         0.0005       23.392702\n",
      "8      8         0.0100       27.114183\n",
      "9      5         0.0100       31.480385\n"
     ]
    }
   ],
   "source": [
    "create_results_table('/user/ml4723/Prj/NIC/ray_results/run_2024-07-12_01-44-35')"
   ]
  }
 ],
 "metadata": {
  "kernelspec": {
   "display_name": "Python 3.10.4 ('neural_inventory_control')",
   "language": "python",
   "name": "python3"
  },
  "language_info": {
   "codemirror_mode": {
    "name": "ipython",
    "version": 3
   },
   "file_extension": ".py",
   "mimetype": "text/x-python",
   "name": "python",
   "nbconvert_exporter": "python",
   "pygments_lexer": "ipython3",
   "version": "3.10.4"
  },
  "orig_nbformat": 4,
  "vscode": {
   "interpreter": {
    "hash": "295131613949c3a10f810057b447f8c1d2f9ae56e2b2c791b6162e59dbe65d0e"
   }
  }
 },
 "nbformat": 4,
 "nbformat_minor": 2
}
