{
 "cells": [
  {
   "cell_type": "code",
   "execution_count": 7,
   "metadata": {},
   "outputs": [],
   "source": [
    "import os\n",
    "import json\n",
    "import pandas as pd\n",
    "\n",
    "def collect_data(main_folder):\n",
    "    \"\"\" Collects the minimum test loss and corresponding parameters across all subfolders in the main folder. \"\"\"\n",
    "    results = []\n",
    "    context_size = 0\n",
    "    # Traverse through each subfolder in the main folder\n",
    "    for subfolder in os.listdir(main_folder):\n",
    "        subfolder_path = os.path.join(main_folder, subfolder)\n",
    "        progress_file = os.path.join(subfolder_path, 'progress.csv')\n",
    "        params_file = os.path.join(subfolder_path, 'params.json')\n",
    "        \n",
    "        # Check if both necessary files exist\n",
    "        if os.path.exists(progress_file) and os.path.exists(params_file):\n",
    "            try:\n",
    "                # Read progress.csv and find the minimum test loss\n",
    "                data = pd.read_csv(progress_file)\n",
    "                if 'test_loss' in data.columns:\n",
    "                    min_loss = data['test_loss'].min()\n",
    "                    # Read params.json\n",
    "                    with open(params_file, 'r') as file:\n",
    "                        params = json.load(file)\n",
    "                        context_size = params.get('context_size')\n",
    "                        # Collect required params and the corresponding test loss\n",
    "                        result = {\n",
    "                            'learning_rate': params.get('learning_rate'),\n",
    "                            'best_test_loss': min_loss\n",
    "                        }\n",
    "                        results.append(result)\n",
    "            except Exception as e:\n",
    "                print(f\"Error processing files in {subfolder_path}: {e}\")\n",
    "\n",
    "    return results, context_size\n",
    "\n",
    "def create_results_table(main_folder):\n",
    "    \"\"\" Creates a table of the minimum test losses for each combination of learning_rate, context_size, and samples. \"\"\"\n",
    "    data, context_size = collect_data(main_folder)\n",
    "    if data:\n",
    "        # Create DataFrame from collected data\n",
    "        df = pd.DataFrame(data)\n",
    "        # Group by the parameters and find the row with the minimum test_loss\n",
    "        sorted_result_df = df.sort_values(by='best_test_loss', ascending=True)\n",
    "        print(f'context_size : {context_size}')\n",
    "        print(sorted_result_df.to_string(index=False))\n",
    "    else:\n",
    "        print(\"No data collected. Check the contents of your directories.\")\n"
   ]
  },
  {
   "cell_type": "code",
   "execution_count": 8,
   "metadata": {},
   "outputs": [
    {
     "name": "stdout",
     "output_type": "stream",
     "text": [
      "context_size : 128\n",
      " learning_rate  best_test_loss\n",
      "        0.0005        5.389884\n",
      "        0.0010        5.391843\n",
      "        0.0005        5.391875\n",
      "        0.0010        5.393512\n",
      "        0.0010        5.395668\n",
      "        0.0010        5.396262\n",
      "        0.0005        5.397495\n",
      "        0.0010        5.398707\n",
      "        0.0005        5.400329\n",
      "        0.0010        5.404823\n",
      "        0.0010        5.405300\n",
      "        0.0005        5.405368\n",
      "        0.0005        5.405957\n",
      "        0.0010        5.407518\n",
      "        0.0010        5.408655\n",
      "        0.0005        5.418071\n",
      "        0.0010        5.418186\n",
      "        0.0100        5.422293\n",
      "        0.0005        5.453230\n",
      "        0.0005        6.175050\n",
      "        0.0005        6.717837\n",
      "        0.0010        7.283146\n",
      "        0.0100        7.431338\n",
      "        0.0005       10.362279\n",
      "        0.0100       11.338643\n",
      "        0.0100       15.846192\n",
      "        0.0100       16.076712\n",
      "        0.0100       16.638903\n",
      "        0.0100       17.035694\n",
      "        0.1000       19.190380\n",
      "        0.0100       20.425070\n",
      "        0.0100       20.551210\n",
      "        0.0100       21.109050\n",
      "        0.1000       22.393586\n",
      "        0.1000       22.393870\n",
      "        0.1000       22.410701\n",
      "        0.1000       22.430119\n",
      "        0.1000       23.808378\n",
      "        0.0100       36.270457\n",
      "        0.1000       44.165326\n",
      "        0.1000       44.165326\n",
      "        0.1000       44.165326\n",
      "        0.1000       44.165326\n",
      "        0.1000       44.165326\n"
     ]
    }
   ],
   "source": [
    "create_results_table('/user/ml4723/Prj/NIC/ray_results_50/run_2024-07-16_21-23-24')"
   ]
  },
  {
   "cell_type": "code",
   "execution_count": 78,
   "metadata": {},
   "outputs": [
    {
     "name": "stdout",
     "output_type": "stream",
     "text": [
      "context_size : 4\n",
      " learning_rate  best_test_loss\n",
      "        0.0005        5.605410\n",
      "        0.0010        6.441049\n",
      "        0.0010        7.344255\n",
      "        0.0005        7.762958\n",
      "        0.0010        8.088158\n",
      "        0.0100       11.489364\n",
      "        0.0100       11.512672\n",
      "        0.0010       13.766644\n",
      "        0.0100       14.642271\n",
      "        0.0100       16.623400\n",
      "        0.0005       30.744198\n"
     ]
    }
   ],
   "source": [
    "create_results_table('/user/ml4723/Prj/NIC/ray_results/run_2024-07-11_11-39-40')"
   ]
  },
  {
   "cell_type": "code",
   "execution_count": 2,
   "metadata": {},
   "outputs": [
    {
     "ename": "NameError",
     "evalue": "name 'create_results_table' is not defined",
     "output_type": "error",
     "traceback": [
      "\u001b[0;31m---------------------------------------------------------------------------\u001b[0m",
      "\u001b[0;31mNameError\u001b[0m                                 Traceback (most recent call last)",
      "Cell \u001b[0;32mIn[2], line 1\u001b[0m\n\u001b[0;32m----> 1\u001b[0m create_results_table(\u001b[39m'\u001b[39m\u001b[39m/user/ml4723/Prj/NIC/ray_results/run_2024-07-11_17-01-38\u001b[39m\u001b[39m'\u001b[39m)\n",
      "\u001b[0;31mNameError\u001b[0m: name 'create_results_table' is not defined"
     ]
    }
   ],
   "source": [
    "create_results_table('/user/ml4723/Prj/NIC/ray_results/run_2024-07-11_17-01-38')"
   ]
  },
  {
   "cell_type": "code",
   "execution_count": 4,
   "metadata": {},
   "outputs": [
    {
     "name": "stdout",
     "output_type": "stream",
     "text": [
      "context_size : 2\n",
      " learning_rate  best_test_loss\n",
      "        0.0005        5.604947\n",
      "        0.0010        6.988910\n",
      "        0.0010        7.810473\n",
      "        0.0010        9.123794\n",
      "        0.0005       15.813209\n"
     ]
    }
   ],
   "source": [
    "create_results_table('/user/ml4723/Prj/NIC/ray_results/run_2024-07-12_07-16-31')"
   ]
  },
  {
   "cell_type": "code",
   "execution_count": null,
   "metadata": {},
   "outputs": [],
   "source": []
  },
  {
   "cell_type": "markdown",
   "metadata": {},
   "source": [
    "# Below is for n_stores = 50"
   ]
  },
  {
   "cell_type": "code",
   "execution_count": 80,
   "metadata": {},
   "outputs": [
    {
     "name": "stdout",
     "output_type": "stream",
     "text": [
      "context_size : 128\n",
      " learning_rate  best_test_loss\n",
      "        0.0005        5.412806\n",
      "        0.0010        5.415018\n",
      "        0.0005        5.506853\n",
      "        0.0010        5.781743\n",
      "        0.0100        7.152602\n",
      "        0.0100       16.189754\n"
     ]
    }
   ],
   "source": [
    "create_results_table('/user/ml4723/Prj/NIC/ray_results/run_2024-07-11_05-27-18')"
   ]
  },
  {
   "cell_type": "code",
   "execution_count": 81,
   "metadata": {},
   "outputs": [
    {
     "name": "stdout",
     "output_type": "stream",
     "text": [
      "context_size : 64\n",
      " learning_rate  best_test_loss\n",
      "        0.0010        5.409906\n",
      "        0.0005        7.076955\n",
      "        0.0010        7.972043\n",
      "        0.0005        8.897128\n",
      "        0.0100       11.613703\n",
      "        0.0100       17.898005\n"
     ]
    }
   ],
   "source": [
    "create_results_table('/user/ml4723/Prj/NIC/ray_results/run_2024-07-11_07-52-50')"
   ]
  },
  {
   "cell_type": "code",
   "execution_count": 82,
   "metadata": {},
   "outputs": [
    {
     "name": "stdout",
     "output_type": "stream",
     "text": [
      "context_size : 32\n",
      " learning_rate  best_test_loss\n",
      "        0.0005        5.411628\n",
      "        0.0010        7.393025\n",
      "        0.0100       16.262605\n",
      "        0.0100       16.342239\n"
     ]
    }
   ],
   "source": [
    "create_results_table('/user/ml4723/Prj/NIC/ray_results/run_2024-07-11_09-41-43')"
   ]
  },
  {
   "cell_type": "code",
   "execution_count": 83,
   "metadata": {},
   "outputs": [
    {
     "name": "stdout",
     "output_type": "stream",
     "text": [
      "context_size : 16\n",
      " learning_rate  best_test_loss\n",
      "        0.0010        5.412956\n",
      "        0.0005        6.980137\n",
      "        0.0005        7.714144\n",
      "        0.0005        8.068696\n",
      "        0.0010        8.379202\n",
      "        0.0010        8.604063\n",
      "        0.0005       11.359692\n",
      "        0.0010       13.784768\n",
      "        0.0100       14.719614\n",
      "        0.0100       15.860225\n",
      "        0.0100       16.307592\n",
      "        0.0005       16.750998\n",
      "        0.0100       19.036855\n",
      "        0.0100       21.494105\n",
      "        0.0010       22.327871\n"
     ]
    }
   ],
   "source": [
    "create_results_table('/user/ml4723/Prj/NIC/ray_results/run_2024-07-11_11-52-10')"
   ]
  },
  {
   "cell_type": "code",
   "execution_count": 7,
   "metadata": {},
   "outputs": [
    {
     "name": "stdout",
     "output_type": "stream",
     "text": [
      "context_size : 8\n",
      " learning_rate  best_test_loss\n",
      "        0.0010        5.413410\n",
      "        0.0010        7.537731\n",
      "        0.0005        7.735478\n",
      "        0.0005        8.919952\n",
      "        0.0005       10.710806\n",
      "        0.0100       11.243040\n",
      "        0.0010       13.570966\n",
      "        0.0100       13.993180\n",
      "        0.0100       16.343363\n",
      "        0.0100       22.620466\n",
      "        0.0010       36.146848\n"
     ]
    }
   ],
   "source": [
    "create_results_table('/user/ml4723/Prj/NIC/ray_results/run_2024-07-11_19-32-22')"
   ]
  },
  {
   "cell_type": "code",
   "execution_count": 85,
   "metadata": {},
   "outputs": [
    {
     "name": "stdout",
     "output_type": "stream",
     "text": [
      "context_size : 4\n",
      " learning_rate  best_test_loss\n",
      "        0.0010        6.828720\n",
      "        0.0100        8.461158\n",
      "        0.0005        8.570793\n",
      "        0.0005       10.900044\n",
      "        0.0010       11.165269\n",
      "        0.0005       13.871189\n",
      "        0.0010       15.930729\n",
      "        0.0100       20.107402\n",
      "        0.0100       27.114183\n",
      "        0.0100       30.158236\n"
     ]
    }
   ],
   "source": [
    "create_results_table('/user/ml4723/Prj/NIC/ray_results/run_2024-07-12_01-44-35')"
   ]
  },
  {
   "cell_type": "code",
   "execution_count": 2,
   "metadata": {},
   "outputs": [
    {
     "name": "stdout",
     "output_type": "stream",
     "text": [
      "context_size : 4\n",
      " learning_rate  best_test_loss\n",
      "        0.0005        5.423057\n",
      "        0.0005        6.786145\n",
      "        0.0005        6.847725\n",
      "        0.0010        7.107982\n",
      "        0.0010        7.135085\n",
      "        0.0005        8.175163\n",
      "        0.0010        8.280889\n",
      "        0.0005        8.640444\n",
      "        0.0010        8.763779\n",
      "        0.0010        9.245667\n",
      "        0.0010        9.453920\n",
      "        0.0010        9.984421\n",
      "        0.0005       10.442383\n",
      "        0.0010       10.525269\n",
      "        0.0010       11.668051\n",
      "        0.0005       11.681460\n",
      "        0.0005       12.700446\n",
      "        0.0005       16.743042\n",
      "        0.0005       16.881597\n",
      "        0.0010       18.349159\n",
      "        0.0005       18.492933\n",
      "        0.0005       19.203477\n",
      "        0.0010       19.218484\n",
      "        0.0010       19.415411\n",
      "        0.0005       24.988570\n",
      "        0.0010       26.029597\n",
      "        0.0010       30.600581\n"
     ]
    }
   ],
   "source": [
    "create_results_table('/user/ml4723/Prj/NIC/ray_results/run_2024-07-16_03-14-20')"
   ]
  }
 ],
 "metadata": {
  "kernelspec": {
   "display_name": "Python 3.10.4 ('neural_inventory_control')",
   "language": "python",
   "name": "python3"
  },
  "language_info": {
   "codemirror_mode": {
    "name": "ipython",
    "version": 3
   },
   "file_extension": ".py",
   "mimetype": "text/x-python",
   "name": "python",
   "nbconvert_exporter": "python",
   "pygments_lexer": "ipython3",
   "version": "3.10.4"
  },
  "orig_nbformat": 4,
  "vscode": {
   "interpreter": {
    "hash": "295131613949c3a10f810057b447f8c1d2f9ae56e2b2c791b6162e59dbe65d0e"
   }
  }
 },
 "nbformat": 4,
 "nbformat_minor": 2
}
