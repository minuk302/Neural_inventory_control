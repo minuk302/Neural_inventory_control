{
 "cells": [
  {
   "cell_type": "code",
   "execution_count": 6,
   "metadata": {},
   "outputs": [
    {
     "name": "stdout",
     "output_type": "stream",
     "text": [
      "{\n",
      "    \"context_size\": 8,\n",
      "    \"learning_rate\": 0.001,\n",
      "    \"n_stores\": 50,\n",
      "    \"samples\": 1\n",
      "}\n",
      "loss: 5.41341005859375\n"
     ]
    }
   ],
   "source": [
    "import os\n",
    "import json\n",
    "import pandas as pd\n",
    "\n",
    "def find_min_test_loss_subfolder(main_folder):\n",
    "    \"\"\" This function finds the subfolder with the lowest test_loss within the given main folder. \"\"\"\n",
    "    min_loss = float('inf')\n",
    "    best_subfolder = None\n",
    "    best_loss = None\n",
    "\n",
    "    # Traverse through each subfolder in the main folder\n",
    "    for subfolder in os.listdir(main_folder):\n",
    "        subfolder_path = os.path.join(main_folder, subfolder)\n",
    "        progress_file = os.path.join(subfolder_path, 'progress.csv')\n",
    "        \n",
    "        # Ensure the file exists\n",
    "        if os.path.exists(progress_file):\n",
    "            try:\n",
    "                data = pd.read_csv(progress_file)\n",
    "                # Check if 'test_loss' column exists\n",
    "                if 'test_loss' in data.columns:\n",
    "                    current_min_loss = data['test_loss'].min()\n",
    "                    # Update the minimum test loss and best subfolder\n",
    "                    if current_min_loss < min_loss:\n",
    "                        min_loss = current_min_loss\n",
    "                        best_subfolder = subfolder_path\n",
    "                        best_loss = min_loss\n",
    "            except Exception as e:\n",
    "                print(f\"Error reading {progress_file}: {e}\")\n",
    "\n",
    "    return best_subfolder, best_loss\n",
    "\n",
    "def print_params_from_best_subfolder(folder):\n",
    "    \"\"\" This function prints the params.json from the subfolder with the lowest test_loss. \"\"\"\n",
    "    best_subfolder, best_loss = find_min_test_loss_subfolder(folder)\n",
    "    if best_subfolder:\n",
    "        params_file = os.path.join(best_subfolder, 'params.json')\n",
    "        if os.path.exists(params_file):\n",
    "            try:\n",
    "                with open(params_file, 'r') as file:\n",
    "                    params = json.load(file)\n",
    "                    print(json.dumps(params, indent=4))\n",
    "                    print(f'loss: {best_loss}')\n",
    "            except Exception as e:\n",
    "                print(f\"Error reading {params_file}: {e}\")\n",
    "        else:\n",
    "            print(\"No params.json found in:\", best_subfolder)\n",
    "    else:\n",
    "        print(\"No subfolder with valid progress.csv found in:\", folder)\n",
    "\n",
    "# Example usage:\n",
    "# Replace 'path_to_main_folder' with the path to your main directory\n",
    "\n",
    "\n",
    "# n_stores = 30\n",
    "# ctx 8, lr = 0.001\n",
    "#print_params_from_best_subfolder(os.getcwd() + '/ray_results/run_2024-07-11_05-11-10')\n",
    "# ctx 4, lr=0.0005\n",
    "#print_params_from_best_subfolder('/user/ml4723/Prj/NIC/ray_results/run_2024-07-11_11-39-40')\n",
    "# ctx 2, going on\n",
    "#print_params_from_best_subfolder('/user/ml4723/Prj/NIC/ray_results/run_2024-07-11_17-01-38')\n",
    "\n",
    "#n_stores = 50\n",
    "# ctx 128, lr=0.0005\n",
    "#print_params_from_best_subfolder('/user/ml4723/Prj/NIC/ray_results/run_2024-07-11_05-27-18')\n",
    "# ctx 64, lr=0.001\n",
    "#print_params_from_best_subfolder('/user/ml4723/Prj/NIC/ray_results/run_2024-07-11_07-52-50')\n",
    "# ctx 32, lr=0.0005\n",
    "#print_params_from_best_subfolder('/user/ml4723/Prj/NIC/ray_results/run_2024-07-11_09-41-43')\n",
    "# ctx 16, lr=0.001\n",
    "#print_params_from_best_subfolder('/user/ml4723/Prj/NIC/ray_results/run_2024-07-11_11-52-10')\n",
    "# ctx 8, lr=0.001\n",
    "# print_params_from_best_subfolder('/user/ml4723/Prj/NIC/ray_results/run_2024-07-11_19-32-22')\n",
    "# ctx 4, lr=0.001\n",
    "# print_params_from_best_subfolder('/user/ml4723/Prj/NIC/ray_results/run_2024-07-12_01-44-35')"
   ]
  },
  {
   "cell_type": "code",
   "execution_count": null,
   "metadata": {},
   "outputs": [],
   "source": []
  },
  {
   "cell_type": "code",
   "execution_count": null,
   "metadata": {},
   "outputs": [],
   "source": []
  },
  {
   "cell_type": "code",
   "execution_count": null,
   "metadata": {},
   "outputs": [],
   "source": []
  }
 ],
 "metadata": {
  "kernelspec": {
   "display_name": "Python 3.10.4 ('neural_inventory_control')",
   "language": "python",
   "name": "python3"
  },
  "language_info": {
   "codemirror_mode": {
    "name": "ipython",
    "version": 3
   },
   "file_extension": ".py",
   "mimetype": "text/x-python",
   "name": "python",
   "nbconvert_exporter": "python",
   "pygments_lexer": "ipython3",
   "version": "3.10.4"
  },
  "orig_nbformat": 4,
  "vscode": {
   "interpreter": {
    "hash": "295131613949c3a10f810057b447f8c1d2f9ae56e2b2c791b6162e59dbe65d0e"
   }
  }
 },
 "nbformat": 4,
 "nbformat_minor": 2
}
