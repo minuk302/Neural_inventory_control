{
 "cells": [
  {
   "cell_type": "code",
   "execution_count": 6,
   "metadata": {},
   "outputs": [],
   "source": [
    "import os\n",
    "import json\n",
    "import pandas as pd\n",
    "\n",
    "def collect_data(top_folder, ctx_size):\n",
    "    \"\"\" Collects the minimum test loss and corresponding parameters across all subfolders in the main folder. \"\"\"\n",
    "    results = []\n",
    "    # Traverse through each subfolder in the main folder\n",
    "    for submain_folder in os.listdir(top_folder):\n",
    "        main_folder = os.path.join(top_folder, submain_folder)\n",
    "        for subfolder in os.listdir(main_folder):\n",
    "            subfolder_path = os.path.join(main_folder, subfolder)\n",
    "            progress_file = os.path.join(subfolder_path, 'progress.csv')\n",
    "            params_file = os.path.join(subfolder_path, 'params.json')\n",
    "            \n",
    "            # Check if both necessary files exist\n",
    "            if os.path.exists(progress_file) and os.path.exists(params_file):\n",
    "                try:\n",
    "                    # Read progress.csv and find the minimum test loss\n",
    "                    data = pd.read_csv(progress_file)\n",
    "                    data.fillna(0, inplace=True)\n",
    "                    # Read params.json\n",
    "                    with open(params_file, 'r') as file:\n",
    "                        params = json.load(file)\n",
    "                        if ctx_size != None and params['context'] != ctx_size:\n",
    "                            continue\n",
    "                        # Collect required params and the corresponding test loss\n",
    "                        result = {}\n",
    "                        if 'master_neurons' in params:\n",
    "                            result['master_neurons'] = params.get('master_neurons')\n",
    "                        if 'store_embedding' in params:\n",
    "                            result['store_embedding_neurons'] = params.get('store_embedding')\n",
    "                        result['learning_rate'] = params.get('learning_rate')\n",
    "\n",
    "                        result['best_dev_loss'] = data['dev_loss'].min()\n",
    "                        result['test_loss(at best_dev)'] = data[data['dev_loss'] == result['best_dev_loss']]['test_loss'].iloc[0]\n",
    "                        result['train_loss(at best_dev)'] = data[data['dev_loss'] == result['best_dev_loss']]['train_loss'].iloc[0]\n",
    "                        result['best_test_loss'] = data['test_loss'].min()\n",
    "                        result['best_train_loss'] = data['train_loss'].min()\n",
    "                        result['path'] = subfolder_path\n",
    "                        results.append(result)\n",
    "                    # if 'test_loss' in data.columns:\n",
    "                    #     min_loss = data['test_loss'].min()\n",
    "                    #     # Read params.json\n",
    "                    #     with open(params_file, 'r') as file:\n",
    "                    #         params = json.load(file)\n",
    "                    #         context_size = params.get('context_size')\n",
    "                    #         # Collect required params and the corresponding test loss\n",
    "                    #         result = {\n",
    "                    #             'learning_rate': params.get('learning_rate'),\n",
    "                    #             'best_test_loss': min_loss\n",
    "                    #         }\n",
    "                    #         results.append(result)\n",
    "                except Exception as e:\n",
    "                    print(f\"Error processing files in {subfolder_path}: {e}\")\n",
    "\n",
    "    return results\n",
    "\n",
    "def create_results_table(main_folder, ctx_size):\n",
    "    \"\"\" Creates a table of the minimum test losses for each combination of learning_rate, context_size, and samples. \"\"\"\n",
    "    data = collect_data(main_folder, ctx_size)\n",
    "    if data:\n",
    "        df = pd.DataFrame(data)\n",
    "        sorted_result_df = df.sort_values(by='best_dev_loss', ascending=True)\n",
    "    else:\n",
    "        print(\"No data collected. Check the contents of your directories.\")\n",
    "    return sorted_result_df\n",
    "\n",
    "def make_the_result_table(paths, context_sizes):\n",
    "    # Placeholder for results\n",
    "    results = []\n",
    "\n",
    "    # Iterate over each path and context size, call the function, and store the top row\n",
    "    for num_stores, path in paths.items():\n",
    "        for context_size in context_sizes:\n",
    "            df = create_results_table(path, context_size)\n",
    "            top_row = df.iloc[0]  # Get the top row\n",
    "            # Extract necessary columns and add custom columns\n",
    "            result_row = {\n",
    "                \"# of stores\": num_stores,\n",
    "                \"context size\": context_size,\n",
    "                \"Learning Rate\": top_row['learning_rate'],\n",
    "                \"Train Loss\": top_row['train_loss(at best_dev)'],\n",
    "                \"Dev Loss\": top_row['best_dev_loss'],\n",
    "                \"Test Loss\": top_row['test_loss(at best_dev)'],\n",
    "                # \"path\": top_row['path']\n",
    "            }\n",
    "            results.append(result_row)\n",
    "\n",
    "    # Combine all top rows into a single DataFrame\n",
    "    return pd.DataFrame(results)"
   ]
  },
  {
   "cell_type": "code",
   "execution_count": 7,
   "metadata": {},
   "outputs": [
    {
     "name": "stdout",
     "output_type": "stream",
     "text": [
      " # of stores  context size  Learning Rate  Train Loss  Dev Loss  Test Loss\n",
      "           3             0         0.0100    5.670470  5.657994   5.663223\n",
      "           3             1         0.0100    5.613812  5.608477   5.609850\n",
      "           3           256         0.0100    5.616237  5.611364   5.612627\n",
      "           5             0         0.0010    5.312334  5.292432   5.301958\n",
      "           5             1         0.0100    5.256996  5.235224   5.247245\n",
      "           5           256         0.0001    5.249202  5.237397   5.249729\n",
      "          10             0         0.0100    5.773343  5.808772   5.776743\n",
      "          10             1         0.0100    5.712263  5.755829   5.720371\n",
      "          10           256         0.0100    5.731197  5.761904   5.729029\n",
      "          20             0         0.0010    5.902905  5.892253   5.871639\n",
      "          20             1         0.0010    5.850531  5.839253   5.818287\n",
      "          20           256         0.0100    5.857646  5.844117   5.820630\n",
      "          30             0         0.0010    5.600722  5.605764   5.601543\n",
      "          30             1         0.0010    5.548159  5.556480   5.550539\n",
      "          30           256         0.0100    5.569959  5.574575   5.569556\n",
      "          50             0         0.0001    6.545030  6.524776   6.538479\n",
      "          50             1         0.0001    6.759303  6.723869   6.789614\n",
      "          50           256         0.0010    5.389271  5.366309   5.386096\n"
     ]
    }
   ],
   "source": [
    "paths = {\n",
    "    3: \"/user/ml4723/Prj/NIC/ray_results/perf/ctx/3\",\n",
    "    5: \"/user/ml4723/Prj/NIC/ray_results/perf/ctx/5\",\n",
    "    10: \"/user/ml4723/Prj/NIC/ray_results/perf/ctx/10\",\n",
    "    20: \"/user/ml4723/Prj/NIC/ray_results/perf/ctx/20\",\n",
    "    30: \"/user/ml4723/Prj/NIC/ray_results/perf/ctx/30\",\n",
    "    50: \"/user/ml4723/Prj/NIC/ray_results/perf/ctx/50\"\n",
    "}\n",
    "\n",
    "df = make_the_result_table(paths, [0, 1, 256])\n",
    "print(df.to_string(index=False))"
   ]
  },
  {
   "cell_type": "code",
   "execution_count": 11,
   "metadata": {},
   "outputs": [
    {
     "name": "stdout",
     "output_type": "stream",
     "text": [
      "No data collected. Check the contents of your directories.\n"
     ]
    },
    {
     "ename": "UnboundLocalError",
     "evalue": "local variable 'sorted_result_df' referenced before assignment",
     "output_type": "error",
     "traceback": [
      "\u001b[0;31m---------------------------------------------------------------------------\u001b[0m",
      "\u001b[0;31mUnboundLocalError\u001b[0m                         Traceback (most recent call last)",
      "Cell \u001b[0;32mIn[11], line 10\u001b[0m\n\u001b[1;32m      1\u001b[0m paths \u001b[38;5;241m=\u001b[39m {\n\u001b[1;32m      2\u001b[0m     \u001b[38;5;241m3\u001b[39m: \u001b[38;5;124m\"\u001b[39m\u001b[38;5;124m/user/ml4723/Prj/NIC/ray_results/perf/GNN/3\u001b[39m\u001b[38;5;124m\"\u001b[39m,\n\u001b[1;32m      3\u001b[0m     \u001b[38;5;241m5\u001b[39m: \u001b[38;5;124m\"\u001b[39m\u001b[38;5;124m/user/ml4723/Prj/NIC/ray_results/perf/GNN/5\u001b[39m\u001b[38;5;124m\"\u001b[39m,\n\u001b[0;32m   (...)\u001b[0m\n\u001b[1;32m      7\u001b[0m     \u001b[38;5;241m50\u001b[39m: \u001b[38;5;124m\"\u001b[39m\u001b[38;5;124m/user/ml4723/Prj/NIC/ray_results/perf/GNN/50\u001b[39m\u001b[38;5;124m\"\u001b[39m\n\u001b[1;32m      8\u001b[0m }\n\u001b[0;32m---> 10\u001b[0m df \u001b[38;5;241m=\u001b[39m \u001b[43mmake_the_result_table\u001b[49m\u001b[43m(\u001b[49m\u001b[43mpaths\u001b[49m\u001b[43m,\u001b[49m\u001b[43m \u001b[49m\u001b[43m[\u001b[49m\u001b[38;5;241;43m1\u001b[39;49m\u001b[43m,\u001b[49m\u001b[43m \u001b[49m\u001b[38;5;241;43m32\u001b[39;49m\u001b[43m,\u001b[49m\u001b[43m \u001b[49m\u001b[38;5;241;43m256\u001b[39;49m\u001b[43m]\u001b[49m\u001b[43m)\u001b[49m\n\u001b[1;32m     11\u001b[0m \u001b[38;5;28mprint\u001b[39m(df\u001b[38;5;241m.\u001b[39mto_string(index\u001b[38;5;241m=\u001b[39m\u001b[38;5;28;01mFalse\u001b[39;00m))\n",
      "Cell \u001b[0;32mIn[6], line 76\u001b[0m, in \u001b[0;36mmake_the_result_table\u001b[0;34m(paths, context_sizes)\u001b[0m\n\u001b[1;32m     74\u001b[0m \u001b[38;5;28;01mfor\u001b[39;00m num_stores, path \u001b[38;5;129;01min\u001b[39;00m paths\u001b[38;5;241m.\u001b[39mitems():\n\u001b[1;32m     75\u001b[0m     \u001b[38;5;28;01mfor\u001b[39;00m context_size \u001b[38;5;129;01min\u001b[39;00m context_sizes:\n\u001b[0;32m---> 76\u001b[0m         df \u001b[38;5;241m=\u001b[39m \u001b[43mcreate_results_table\u001b[49m\u001b[43m(\u001b[49m\u001b[43mpath\u001b[49m\u001b[43m,\u001b[49m\u001b[43m \u001b[49m\u001b[43mcontext_size\u001b[49m\u001b[43m)\u001b[49m\n\u001b[1;32m     77\u001b[0m         top_row \u001b[38;5;241m=\u001b[39m df\u001b[38;5;241m.\u001b[39miloc[\u001b[38;5;241m0\u001b[39m]  \u001b[38;5;66;03m# Get the top row\u001b[39;00m\n\u001b[1;32m     78\u001b[0m         \u001b[38;5;66;03m# Extract necessary columns and add custom columns\u001b[39;00m\n",
      "Cell \u001b[0;32mIn[6], line 67\u001b[0m, in \u001b[0;36mcreate_results_table\u001b[0;34m(main_folder, ctx_size)\u001b[0m\n\u001b[1;32m     65\u001b[0m \u001b[38;5;28;01melse\u001b[39;00m:\n\u001b[1;32m     66\u001b[0m     \u001b[38;5;28mprint\u001b[39m(\u001b[38;5;124m\"\u001b[39m\u001b[38;5;124mNo data collected. Check the contents of your directories.\u001b[39m\u001b[38;5;124m\"\u001b[39m)\n\u001b[0;32m---> 67\u001b[0m \u001b[38;5;28;01mreturn\u001b[39;00m \u001b[43msorted_result_df\u001b[49m\n",
      "\u001b[0;31mUnboundLocalError\u001b[0m: local variable 'sorted_result_df' referenced before assignment"
     ]
    }
   ],
   "source": [
    "paths = {\n",
    "    3: \"/user/ml4723/Prj/NIC/ray_results/perf/GNN/3\",\n",
    "    5: \"/user/ml4723/Prj/NIC/ray_results/perf/GNN/5\",\n",
    "    10: \"/user/ml4723/Prj/NIC/ray_results/perf/GNN/10\",\n",
    "    20: \"/user/ml4723/Prj/NIC/ray_results/perf/GNN/20\",\n",
    "    30: \"/user/ml4723/Prj/NIC/ray_results/perf/GNN/30\",\n",
    "    50: \"/user/ml4723/Prj/NIC/ray_results/perf/GNN/50\"\n",
    "}\n",
    "\n",
    "df = make_the_result_table(paths, [1])\n",
    "#df = make_the_result_table(paths, [1, 32, 256])\n",
    "print(df.to_string(index=False))"
   ]
  },
  {
   "cell_type": "code",
   "execution_count": 5,
   "metadata": {},
   "outputs": [
    {
     "name": "stdout",
     "output_type": "stream",
     "text": [
      " # of stores Architecture Class context size  Learning Rate  Train Loss   Dev Loss  Test Loss\n",
      "           3     Symmetry_Aware            0         0.0010   15.696035  15.747026  38.533308\n",
      "           3     Symmetry_Aware            1         0.0010    6.584759   6.570463   6.565014\n",
      "           3     Symmetry_Aware          256         0.0100    6.215819   6.195688   6.190809\n",
      "           3            Vanilla         None         0.0001    6.202766   6.197694   6.193151\n",
      "           3        Lower bound         None            NaN         NaN        NaN   6.190000\n",
      "           5     Symmetry_Aware            0         0.0010   14.244384  14.159398  34.947054\n",
      "           5     Symmetry_Aware            1         0.0100    6.061970   6.045415   6.036085\n",
      "           5     Symmetry_Aware          256         0.0010    5.769989   5.763230   5.755869\n",
      "           5            Vanilla         None         0.0001    5.755991   5.759228   5.751869\n",
      "           5        Lower bound         None            NaN         NaN        NaN   5.750000\n",
      "          10     Symmetry_Aware            0         0.0010   14.683252  14.683755  38.511749\n",
      "          10     Symmetry_Aware            1         0.0010  194.555636 193.284546 203.874692\n",
      "          10     Symmetry_Aware          256         0.0010    6.053972   6.059085   6.057996\n",
      "          10            Vanilla         None         0.0001    6.100382   6.106894   6.105046\n",
      "          10        Lower bound         None            NaN         NaN        NaN   6.050000\n"
     ]
    }
   ],
   "source": [
    "paths = {\n",
    "    3: \"/user/ml4723/Prj/NIC/ray_results/transshipment/3\",\n",
    "    5: \"/user/ml4723/Prj/NIC/ray_results/transshipment/5\",\n",
    "    10: \"/user/ml4723/Prj/NIC/ray_results/transshipment/10\",\n",
    "}\n",
    "df_sym = make_the_result_table(paths, [0, 1, 256])\n",
    "df_sym.insert(1, 'Architecture Class', \"Symmetry_Aware\")\n",
    "\n",
    "paths = {\n",
    "    3: \"/user/ml4723/Prj/NIC/ray_results/transshipment/vanilla/3\",\n",
    "    5: \"/user/ml4723/Prj/NIC/ray_results/transshipment/vanilla/5\",\n",
    "    10: \"/user/ml4723/Prj/NIC/ray_results/transshipment/vanilla/10\",\n",
    "}\n",
    "df_van = make_the_result_table(paths, [None])\n",
    "df_van.insert(1, 'Architecture Class', \"Vanilla\")\n",
    "\n",
    "lower_bound = [\n",
    "    {\n",
    "                \"# of stores\": 3,\n",
    "                \"Architecture Class\": \"Lower bound\",\n",
    "                \"context size\": None,\n",
    "                \"Learning Rate\": None,\n",
    "                \"Train Loss\": None,\n",
    "                \"Dev Loss\": None,\n",
    "                \"Test Loss\": 6.19,\n",
    "            },\n",
    "    {\n",
    "                \"# of stores\": 5,\n",
    "                \"Architecture Class\": \"Lower bound\",\n",
    "                \"context size\": None,\n",
    "                \"Learning Rate\": None,\n",
    "                \"Train Loss\": None,\n",
    "                \"Dev Loss\": None,\n",
    "                \"Test Loss\": 5.75,\n",
    "            },\n",
    "    {\n",
    "                \"# of stores\": 10,\n",
    "                \"Architecture Class\": \"Lower bound\",\n",
    "                \"context size\": None,\n",
    "                \"Learning Rate\": None,\n",
    "                \"Train Loss\": None,\n",
    "                \"Dev Loss\": None,\n",
    "                \"Test Loss\": 6.05,\n",
    "            },\n",
    "]\n",
    "df_lower_bound = pd.DataFrame(lower_bound)\n",
    "\n",
    "df = pd.concat([df_sym, df_van, df_lower_bound])\n",
    "df.sort_values(by=['# of stores', 'context size'], inplace=True)\n",
    "print(df.to_string(index=False))"
   ]
  },
  {
   "cell_type": "code",
   "execution_count": 3,
   "metadata": {},
   "outputs": [
    {
     "name": "stdout",
     "output_type": "stream",
     "text": [
      " # of stores context size  Learning Rate  Train Loss  Dev Loss  Test Loss\n",
      "           3         None         0.0001    6.206678  6.200491   6.195581\n",
      "           5         None         0.0001    5.755991  5.759228   5.751869\n",
      "          10         None         0.0001    6.152874  6.159148   6.157146\n"
     ]
    }
   ],
   "source": [
    "paths = {\n",
    "    3: \"/user/ml4723/Prj/NIC/ray_results/transshipment/vanilla/3\",\n",
    "    5: \"/user/ml4723/Prj/NIC/ray_results/transshipment/vanilla/5\",\n",
    "    10: \"/user/ml4723/Prj/NIC/ray_results/transshipment/vanilla/10\",\n",
    "}\n",
    "\n",
    "df = make_the_result_table(paths, [None])\n",
    "print(df.to_string(index=False))"
   ]
  }
 ],
 "metadata": {
  "kernelspec": {
   "display_name": "Python 3.10.4 ('neural_inventory_control')",
   "language": "python",
   "name": "python3"
  },
  "language_info": {
   "codemirror_mode": {
    "name": "ipython",
    "version": 3
   },
   "file_extension": ".py",
   "mimetype": "text/x-python",
   "name": "python",
   "nbconvert_exporter": "python",
   "pygments_lexer": "ipython3",
   "version": "3.10.4"
  },
  "orig_nbformat": 4,
  "vscode": {
   "interpreter": {
    "hash": "295131613949c3a10f810057b447f8c1d2f9ae56e2b2c791b6162e59dbe65d0e"
   }
  }
 },
 "nbformat": 4,
 "nbformat_minor": 2
}
