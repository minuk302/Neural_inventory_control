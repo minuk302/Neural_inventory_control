{
 "cells": [
  {
   "cell_type": "markdown",
   "metadata": {},
   "source": [
    "Synthetic data, one warehouse lost demand"
   ]
  },
  {
   "cell_type": "code",
   "execution_count": 1,
   "metadata": {},
   "outputs": [],
   "source": [
    "%load_ext autoreload\n",
    "%autoreload 2\n",
    "\n",
    "import analysis.ray_results_interpreter as rri\n",
    "from importlib import reload\n",
    "import pandas as pd"
   ]
  },
  {
   "cell_type": "code",
   "execution_count": 56,
   "metadata": {},
   "outputs": [
    {
     "name": "stdout",
     "output_type": "stream",
     "text": [
      " # of stores  context size  Learning Rate  Train Loss  Dev Loss  Test Loss  Test Gap %\n",
      "           3             1         0.0100    5.613812  5.608477   5.609850    0.000000\n",
      "           3           256         0.0100    5.616237  5.611364   5.612627    0.049495\n",
      "          10             1         0.0100    5.712263  5.755829   5.720371    0.000000\n",
      "          10           256         0.0100    5.731197  5.761904   5.729029    0.151364\n",
      "          20             1         0.0010    5.850531  5.839253   5.818287    0.000000\n",
      "          20           256         0.0100    5.857646  5.844117   5.820630    0.040261\n",
      "          50             1         0.0001    6.759303  6.723869   6.789614   26.058175\n",
      "          50           256         0.0010    5.389271  5.366309   5.386096    0.000000\n"
     ]
    }
   ],
   "source": [
    "paths = {\n",
    "    3: \"/user/ml4723/Prj/NIC/ray_results/perf/ctx/3\",\n",
    "    10: \"/user/ml4723/Prj/NIC/ray_results/perf/ctx/10\",\n",
    "    20: \"/user/ml4723/Prj/NIC/ray_results/perf/ctx/20\",\n",
    "    50: \"/user/ml4723/Prj/NIC/ray_results/perf/ctx/50\"\n",
    "}\n",
    "results_interpretor = rri.RayResultsinterpreter()\n",
    "conditions = {'context': [1, 256]}\n",
    "df_ctx = results_interpretor.make_table(paths, conditions)\n",
    "df_ctx.rename(columns={'context': 'context size', 'learning_rate': 'Learning Rate'}, inplace=True)\n",
    "\n",
    "min_test_loss = df_ctx.groupby(['# of stores'])['Test Loss'].transform('min')\n",
    "df_ctx_print = df_ctx.copy()\n",
    "df_ctx_print['Test Gap %'] = ((df_ctx_print['Test Loss'] - min_test_loss) / min_test_loss) * 100\n",
    "print(df_ctx_print.to_string(index=False))"
   ]
  },
  {
   "cell_type": "code",
   "execution_count": 3,
   "metadata": {},
   "outputs": [
    {
     "name": "stdout",
     "output_type": "stream",
     "text": [
      "Architecture Class: GNN\n",
      " # of stores  context size  Learning Rate  Train Loss  Dev Loss  Test Loss  Test Gap %\n",
      "           3             1         0.0100    5.614032  5.609062   5.610129    0.011686\n",
      "           3            16         0.0100    5.618455  5.607520   5.609473    0.000000\n",
      "           3            64         0.0010    5.613282  5.608445   5.609535    0.001103\n",
      "          10             1         0.0100    5.777970  5.816457   5.784590    1.175626\n",
      "          10            16         0.0100    5.708765  5.751087   5.717375    0.000000\n",
      "          10            64         0.0100    5.710389  5.751652   5.717664    0.005067\n",
      "          20             1         0.0010    5.939852  5.911295   5.890847    1.350903\n",
      "          20            16         0.0100    5.841372  5.834482   5.812328    0.000000\n",
      "          20            64         0.0100    5.843079  5.833272   5.812664    0.005784\n",
      "          50             1         0.0001    7.469758  7.450507   9.589425   78.380294\n",
      "          50            16         0.0010    8.678668  8.562173  14.883637  176.862012\n",
      "          50            64         0.0001    5.377279  5.356366   5.375832    0.000000\n"
     ]
    }
   ],
   "source": [
    "paths = {\n",
    "    3: \"/user/ml4723/Prj/NIC/ray_results/perf/GNN/3\",\n",
    "    10: \"/user/ml4723/Prj/NIC/ray_results/perf/GNN/10\",\n",
    "    20: \"/user/ml4723/Prj/NIC/ray_results/perf/GNN/20\",\n",
    "    50: \"/user/ml4723/Prj/NIC/ray_results/perf/GNN/50\"\n",
    "}\n",
    "\n",
    "results_interpretor = rri.RayResultsinterpreter()\n",
    "conditions = {'for_all_networks': [1, 16, 64]}\n",
    "df_gnn = results_interpretor.make_table(paths, conditions)\n",
    "df_gnn.rename(columns={'for_all_networks': 'context size', 'learning_rate': 'Learning Rate'}, inplace=True)\n",
    "\n",
    "min_test_loss = df_gnn.groupby(['# of stores'])['Test Loss'].transform('min')\n",
    "df_gnn_print = df_gnn.copy()\n",
    "df_gnn_print['Test Gap %'] = ((df_gnn_print['Test Loss'] - min_test_loss) / min_test_loss) * 100\n",
    "print(\"Architecture Class: GNN\")\n",
    "print(df_gnn_print.to_string(index=False))"
   ]
  },
  {
   "cell_type": "code",
   "execution_count": 4,
   "metadata": {},
   "outputs": [
    {
     "name": "stdout",
     "output_type": "stream",
     "text": [
      "Architecture Class: GNN Message Passing\n",
      " # of stores  context size  Learning Rate  Train Loss  Dev Loss  Test Loss  Test Gap %\n",
      "           3             1         0.0100    5.620989  5.612162   5.614612    0.107264\n",
      "           3            16         0.0100    5.613380  5.608589   5.608596    0.000000\n",
      "           3            64         0.0010    5.613815  5.608413   5.609913    0.023482\n",
      "          10             1         0.0100    5.721958  5.761270   5.726167    0.151508\n",
      "          10            16         0.0100    5.711121  5.752939   5.717505    0.000000\n",
      "          10            64         0.0001    5.717989  5.757410   5.722908    0.094494\n",
      "          20             1         0.0010    5.852099  5.842484   5.821487    0.000000\n",
      "          20            16         0.0010    5.853936  5.845516   5.824511    0.051936\n",
      "          20            64         0.0010    5.842828  5.844684   5.822395    0.015586\n",
      "          50             1         0.0100    8.102721  8.089805  10.459843   95.248555\n",
      "          50            16         0.0001    6.305146  6.265387   6.480000   20.958847\n",
      "          50            64         0.0010    5.358920  5.338118   5.357194    0.000000\n"
     ]
    }
   ],
   "source": [
    "paths = {\n",
    "    3: \"/user/ml4723/Prj/NIC/ray_results/perf/GNN_message_passing/3\",\n",
    "    10: \"/user/ml4723/Prj/NIC/ray_results/perf/GNN_message_passing/10\",\n",
    "    20: \"/user/ml4723/Prj/NIC/ray_results/perf/GNN_message_passing/20\",\n",
    "    50: \"/user/ml4723/Prj/NIC/ray_results/perf/GNN_message_passing/50\"\n",
    "}\n",
    "results_interpretor = rri.RayResultsinterpreter()\n",
    "conditions = {'for_all_networks': [1, 16, 64]}\n",
    "df_gnn_mp = results_interpretor.make_table(paths, conditions)\n",
    "df_gnn_mp.rename(columns={'for_all_networks': 'context size', 'learning_rate': 'Learning Rate'}, inplace=True)\n",
    "\n",
    "min_test_loss = df_gnn_mp.groupby(['# of stores'])['Test Loss'].transform('min')\n",
    "df_gnn_mp_print = df_gnn_mp.copy()\n",
    "df_gnn_mp_print['Test Gap %'] = ((df_gnn_mp_print['Test Loss'] - min_test_loss) / min_test_loss) * 100\n",
    "print(\"Architecture Class: GNN Message Passing\")\n",
    "print(df_gnn_mp_print.to_string(index=False))"
   ]
  },
  {
   "cell_type": "code",
   "execution_count": 59,
   "metadata": {},
   "outputs": [],
   "source": [
    "df_ctx.insert(1, 'Architecture Class', \"Symmetry_Aware\")\n",
    "df_ctx = df_ctx.loc[df_ctx.groupby(['# of stores'])['Dev Loss'].idxmin()]\n",
    "\n",
    "df_gnn.insert(1, 'Architecture Class', \"GNN\")\n",
    "df_gnn = df_gnn.loc[df_gnn.groupby(['# of stores'])['Dev Loss'].idxmin()]\n",
    "\n",
    "df_gnn_mp.insert(1, 'Architecture Class', \"GNN Message Passing\")\n",
    "df_gnn_mp = df_gnn_mp.loc[df_gnn_mp.groupby(['# of stores'])['Dev Loss'].idxmin()]"
   ]
  },
  {
   "cell_type": "code",
   "execution_count": 60,
   "metadata": {},
   "outputs": [
    {
     "name": "stdout",
     "output_type": "stream",
     "text": [
      " # of stores  Architecture Class context size  Learning Rate  Train Loss  Dev Loss  Test Loss  Test Gap %\n",
      "           3      Symmetry_Aware            1         0.0100    5.613812  5.608477   5.609850    0.006726\n",
      "           3                 GNN           16         0.0100    5.618455  5.607520   5.609473    0.000000\n",
      "           3 GNN Message Passing           64         0.0010    5.613815  5.608413   5.609913    0.007838\n",
      "           3             Vanilla         None            NaN    5.610000  5.610000   5.610000    0.009392\n",
      "          10      Symmetry_Aware            1         0.0100    5.712263  5.755829   5.720371    0.052401\n",
      "          10                 GNN           16         0.0100    5.708765  5.751087   5.717375    0.000000\n",
      "          10 GNN Message Passing           16         0.0100    5.711121  5.752939   5.717505    0.002278\n",
      "          10             Vanilla         None            NaN    5.720000  5.740000   5.720000    0.045917\n",
      "          20      Symmetry_Aware            1         0.0010    5.850531  5.839253   5.818287    0.096740\n",
      "          20                 GNN           64         0.0100    5.843079  5.833272   5.812664    0.000000\n",
      "          20 GNN Message Passing            1         0.0010    5.852099  5.842484   5.821487    0.151798\n",
      "          20             Vanilla         None            NaN    5.850000  5.870000   5.850000    0.642323\n",
      "          50      Symmetry_Aware          256         0.0010    5.389271  5.366309   5.386096    0.539500\n",
      "          50                 GNN           64         0.0001    5.377279  5.356366   5.375832    0.347911\n",
      "          50 GNN Message Passing           64         0.0010    5.358920  5.338118   5.357194    0.000000\n",
      "          50             Vanilla         None            NaN    5.410000  5.400000   5.420000    1.172372\n"
     ]
    }
   ],
   "source": [
    "vanilla = [\n",
    "    {\n",
    "                \"# of stores\": 3,\n",
    "                \"Architecture Class\": \"Vanilla\",\n",
    "                \"context size\": None,\n",
    "                \"Learning Rate\": None,\n",
    "                \"Train Loss\": 5.610,\n",
    "                \"Dev Loss\": 5.610,\n",
    "                \"Test Loss\": 5.610,\n",
    "            },\n",
    "    {\n",
    "                \"# of stores\": 10,\n",
    "                \"Architecture Class\": \"Vanilla\",\n",
    "                \"context size\": None,\n",
    "                \"Learning Rate\": None,\n",
    "                \"Train Loss\": 5.720,\n",
    "                \"Dev Loss\": 5.740,\n",
    "                \"Test Loss\": 5.720,\n",
    "            },\n",
    "    {\n",
    "                \"# of stores\": 20,\n",
    "                \"Architecture Class\": \"Vanilla\",\n",
    "                \"context size\": None,\n",
    "                \"Learning Rate\": None,\n",
    "                \"Train Loss\": 5.850,\n",
    "                \"Dev Loss\": 5.870,\n",
    "                \"Test Loss\": 5.850,\n",
    "            },\n",
    "    {\n",
    "                \"# of stores\": 50,\n",
    "                \"Architecture Class\": \"Vanilla\",\n",
    "                \"context size\": None,\n",
    "                \"Learning Rate\": None,\n",
    "                \"Train Loss\": 5.410,\n",
    "                \"Dev Loss\": 5.400,\n",
    "                \"Test Loss\": 5.420,\n",
    "            },\n",
    "]\n",
    "df_vanilla = pd.DataFrame(vanilla)\n",
    "\n",
    "df = pd.concat([df_ctx, df_gnn, df_gnn_mp])\n",
    "architecture_order = ['Symmetry_Aware', 'GNN', 'GNN Message Passing', 'Vanilla']\n",
    "df['Architecture Class'] = pd.Categorical(df['Architecture Class'], categories=architecture_order, ordered=True)\n",
    "min_test_loss = df.groupby(['# of stores'])['Test Loss'].transform('min')\n",
    "df['Test Gap %'] = ((df['Test Loss'] - min_test_loss) / min_test_loss) * 100\n",
    "df.sort_values(by=['# of stores', 'Architecture Class'], inplace=True)\n",
    "print(df.to_string(index=False))"
   ]
  },
  {
   "cell_type": "markdown",
   "metadata": {},
   "source": [
    "Synthetic data, Transshipment"
   ]
  },
  {
   "cell_type": "code",
   "execution_count": 84,
   "metadata": {},
   "outputs": [
    {
     "name": "stdout",
     "output_type": "stream",
     "text": [
      " # of stores Architecture Class context size  Learning Rate  Train Loss  Dev Loss  Test Loss\n",
      "           3     Symmetry_Aware            0         0.0100   15.786119 15.745235  38.493707\n",
      "           3     Symmetry_Aware            1         0.0010    6.451584  6.442219   6.436544\n",
      "           3     Symmetry_Aware          256         0.0100    6.215819  6.195688   6.190809\n",
      "           3            Vanilla         None         0.0001    6.202121  6.195605   6.190790\n",
      "           3        Lower bound         None            NaN         NaN       NaN   6.190000\n",
      "           5     Symmetry_Aware            0         0.0010   14.106193 14.152811  34.056048\n",
      "           5     Symmetry_Aware            1         0.0100    6.061970  6.045415   6.036085\n",
      "           5     Symmetry_Aware          256         0.0010    5.751615  5.759176   5.751703\n",
      "           5            Vanilla         None         0.0001    5.755991  5.759228   5.751869\n",
      "           5        Lower bound         None            NaN         NaN       NaN   5.750000\n",
      "          10     Symmetry_Aware            0         0.0010   14.683252 14.683755  38.511749\n",
      "          10     Symmetry_Aware            1         0.0001    9.254070  9.246135   9.235247\n",
      "          10     Symmetry_Aware          256         0.0010    6.055112  6.058756   6.057758\n",
      "          10            Vanilla         None         0.0001    6.067254  6.073804   6.072607\n",
      "          10        Lower bound         None            NaN         NaN       NaN   6.050000\n"
     ]
    }
   ],
   "source": [
    "paths = {\n",
    "    3: \"/user/ml4723/Prj/NIC/ray_results/transshipment/3\",\n",
    "    5: \"/user/ml4723/Prj/NIC/ray_results/transshipment/5\",\n",
    "    10: \"/user/ml4723/Prj/NIC/ray_results/transshipment/10\",\n",
    "}\n",
    "df_sym = make_the_result_table(paths, [0, 1, 256])\n",
    "df_sym.insert(1, 'Architecture Class', \"Symmetry_Aware\")\n",
    "\n",
    "paths = {\n",
    "    3: \"/user/ml4723/Prj/NIC/ray_results/transshipment/vanilla/3\",\n",
    "    5: \"/user/ml4723/Prj/NIC/ray_results/transshipment/vanilla/5\",\n",
    "    10: \"/user/ml4723/Prj/NIC/ray_results/transshipment/vanilla/10\",\n",
    "}\n",
    "df_van = make_the_result_table(paths, [None])\n",
    "df_van.insert(1, 'Architecture Class', \"Vanilla\")\n",
    "\n",
    "lower_bound = [\n",
    "    {\n",
    "                \"# of stores\": 3,\n",
    "                \"Architecture Class\": \"Lower bound\",\n",
    "                \"context size\": None,\n",
    "                \"Learning Rate\": None,\n",
    "                \"Train Loss\": None,\n",
    "                \"Dev Loss\": None,\n",
    "                \"Test Loss\": 6.19,\n",
    "            },\n",
    "    {\n",
    "                \"# of stores\": 5,\n",
    "                \"Architecture Class\": \"Lower bound\",\n",
    "                \"context size\": None,\n",
    "                \"Learning Rate\": None,\n",
    "                \"Train Loss\": None,\n",
    "                \"Dev Loss\": None,\n",
    "                \"Test Loss\": 5.75,\n",
    "            },\n",
    "    {\n",
    "                \"# of stores\": 10,\n",
    "                \"Architecture Class\": \"Lower bound\",\n",
    "                \"context size\": None,\n",
    "                \"Learning Rate\": None,\n",
    "                \"Train Loss\": None,\n",
    "                \"Dev Loss\": None,\n",
    "                \"Test Loss\": 6.05,\n",
    "            },\n",
    "]\n",
    "df_lower_bound = pd.DataFrame(lower_bound)\n",
    "\n",
    "df = pd.concat([df_sym, df_van, df_lower_bound])\n",
    "df.sort_values(by=['# of stores', 'context size'], inplace=True)\n",
    "print(df.to_string(index=False))"
   ]
  },
  {
   "cell_type": "markdown",
   "metadata": {},
   "source": [
    "One warehouse lost demand synthetic - different primitive setup"
   ]
  },
  {
   "cell_type": "code",
   "execution_count": 3,
   "metadata": {},
   "outputs": [
    {
     "name": "stdout",
     "output_type": "stream",
     "text": [
      " # of stores  context size  warehouse_holding_cost  warehouse_lead_time  stores_correlation  Learning Rate  Train Loss  Dev Loss  Test Loss  Test Gap %\n",
      "           3             0                     0.7                    6                 0.5          0.010    5.913846  5.907117   5.913744    1.509709\n",
      "           3             1                     0.7                    6                 0.5          0.001    5.843374  5.837429   5.838852    0.224195\n",
      "           3            16                     0.7                    6                 0.5          0.001    5.829509  5.826976   5.827758    0.033756\n",
      "           3            64                     0.7                    6                 0.5          0.001    5.824574  5.827352   5.825791    0.000000\n",
      "           3             0                     1.0                    6                 0.5          0.010    6.003209  5.989507   6.003050    2.219561\n",
      "           3             1                     1.0                    6                 0.5          0.010    5.884676  5.876438   5.877843    0.087556\n",
      "           3            16                     1.0                    6                 0.5          0.001    5.876191  5.872409   5.872701    0.000000\n",
      "           3            64                     1.0                    6                 0.5          0.001    5.874376  5.871622   5.873218    0.008793\n",
      "           3             0                     1.3                    6                 0.5          0.010    6.043122  6.032702   6.045250    2.959561\n",
      "           3             1                     1.3                    6                 0.5          0.010    5.879183  5.875020   5.876117    0.078979\n",
      "           3            16                     1.3                    6                 0.5          0.010    5.871605  5.872480   5.871480    0.000000\n",
      "           3            64                     1.3                    6                 0.5          0.001    5.879224  5.871810   5.872867    0.023625\n",
      "           3             0                     2.0                    6                 0.5          0.010    6.197375  6.143627   6.269510    6.783597\n",
      "           3             1                     2.0                    6                 0.5          0.010    5.896185  5.874366   5.876068    0.082399\n",
      "           3            16                     2.0                    6                 0.5          0.010    5.873271  5.871753   5.871852    0.010600\n",
      "           3            64                     2.0                    6                 0.5          0.001    5.869408  5.871531   5.871230    0.000000\n"
     ]
    }
   ],
   "source": [
    "paths = {\n",
    "    3: '/user/ml4723/Prj/NIC/ray_results/diff_primitive/ctx'\n",
    "}\n",
    "\n",
    "results_interpretor = rri.RayResultsinterpreter()\n",
    "conditions = {'context': [0, 1, 16, 64], 'warehouse_holding_cost': [0.7, 1.0, 1.3, 2.0], 'warehouse_lead_time': [6], 'stores_correlation': [0.5]}\n",
    "df = results_interpretor.make_table(paths, conditions)\n",
    "df.rename(columns={'context': 'context size', 'learning_rate': 'Learning Rate'}, inplace=True)\n",
    "min_test_loss = df.groupby(['warehouse_holding_cost', 'warehouse_lead_time', 'stores_correlation'])['Test Loss'].transform('min')\n",
    "df['Test Gap %'] = ((df['Test Loss'] - min_test_loss) / min_test_loss) * 100\n",
    "df.sort_values(by=['warehouse_holding_cost', 'warehouse_lead_time', 'stores_correlation', 'context size'], inplace=True)\n",
    "print(df.to_string(index=False))"
   ]
  },
  {
   "cell_type": "code",
   "execution_count": 5,
   "metadata": {},
   "outputs": [
    {
     "name": "stdout",
     "output_type": "stream",
     "text": [
      "{'warehouse_holding_cost': [1.0], 'warehouse_lead_time': [6], 'stores_correlation': [0.5]}\n",
      " # of stores Architecture Class  context size  Learning Rate  Train Loss  Dev Loss  Test Loss  Test Gap %\n",
      "           3     Symmatry_Aware           0.0         0.0100    6.003209  5.989507   6.003050    2.210574\n",
      "           3     Symmatry_Aware           1.0         0.0100    5.884676  5.876438   5.877843    0.078757\n",
      "           3     Symmatry_Aware          64.0         0.0010    5.874376  5.871622   5.873218    0.000000\n",
      "           3            Vanilla           NaN         0.0001    5.889044  5.883119   5.885261    0.205050\n",
      "          10            Vanilla           NaN         0.0001    5.892896  5.882844   5.885407    0.000000\n",
      "          20            Vanilla           NaN         0.0001    5.877979  5.873914   5.874485    0.000000\n",
      "          50            Vanilla           NaN         0.0001    5.874498  5.873195   5.873024    0.000000\n"
     ]
    }
   ],
   "source": [
    "ctx_paths = {\n",
    "    3: '/user/ml4723/Prj/NIC/ray_results/diff_primitive/ctx/3',\n",
    "    10: '/user/ml4723/Prj/NIC/ray_results/diff_primitive/ctx/10',\n",
    "    20: '/user/ml4723/Prj/NIC/ray_results/diff_primitive/ctx/20',\n",
    "    50: '/user/ml4723/Prj/NIC/ray_results/diff_primitive/ctx/50'\n",
    "}\n",
    "vanilla_paths = {\n",
    "    3: '/user/ml4723/Prj/NIC/ray_results/diff_primitive/vanilla/3',\n",
    "    10: '/user/ml4723/Prj/NIC/ray_results/diff_primitive/vanilla/10',\n",
    "    20: '/user/ml4723/Prj/NIC/ray_results/diff_primitive/vanilla/20',\n",
    "    50: '/user/ml4723/Prj/NIC/ray_results/diff_primitive/vanilla/50'\n",
    "}\n",
    "\n",
    "shared_conditions = {'warehouse_holding_cost': [0.7], 'warehouse_lead_time': [2], 'stores_correlation': [0.5]}\n",
    "# shared_conditions = {'warehouse_holding_cost': [1.0], 'warehouse_lead_time': [2], 'stores_correlation': [0.5]}\n",
    "# shared_conditions = {'warehouse_holding_cost': [0.7], 'warehouse_lead_time': [6], 'stores_correlation': [0.5]}\n",
    "# shared_conditions = {'warehouse_holding_cost': [1.0], 'warehouse_lead_time': [6], 'stores_correlation': [0.5]}\n",
    "\n",
    "condition_for_ctx = shared_conditions.copy()\n",
    "condition_for_ctx['context'] = [0, 1, 64]\n",
    "results_interpretor = rri.RayResultsinterpreter()\n",
    "df_ctx = results_interpretor.make_table(ctx_paths, condition_for_ctx)\n",
    "df_ctx.rename(columns={'context': 'context size', 'learning_rate': 'Learning Rate'}, inplace=True)\n",
    "\n",
    "df_vanilla = results_interpretor.make_table(vanilla_paths, shared_conditions)\n",
    "df_vanilla.rename(columns={'learning_rate': 'Learning Rate'}, inplace=True)\n",
    "\n",
    "df_ctx.insert(1, 'Architecture Class', \"Symmatry_Aware\")\n",
    "df_vanilla.insert(1, 'Architecture Class', \"Vanilla\")\n",
    "df = pd.concat([df_ctx, df_vanilla])\n",
    "min_test_loss = df.groupby(['# of stores', 'warehouse_holding_cost', 'warehouse_lead_time', 'stores_correlation'])['Test Loss'].transform('min')\n",
    "df['Test Gap %'] = ((df['Test Loss'] - min_test_loss) / min_test_loss) * 100\n",
    "df.drop(columns=['warehouse_holding_cost', 'warehouse_lead_time', 'stores_correlation'], inplace=True)\n",
    "df.sort_values(by=['# of stores', 'context size'], inplace=True)\n",
    "print(shared_conditions)\n",
    "print(df.to_string(index=False))"
   ]
  }
 ],
 "metadata": {
  "kernelspec": {
   "display_name": "Python 3.10.4 ('neural_inventory_control')",
   "language": "python",
   "name": "python3"
  },
  "language_info": {
   "codemirror_mode": {
    "name": "ipython",
    "version": 3
   },
   "file_extension": ".py",
   "mimetype": "text/x-python",
   "name": "python",
   "nbconvert_exporter": "python",
   "pygments_lexer": "ipython3",
   "version": "3.10.4"
  },
  "orig_nbformat": 4,
  "vscode": {
   "interpreter": {
    "hash": "295131613949c3a10f810057b447f8c1d2f9ae56e2b2c791b6162e59dbe65d0e"
   }
  }
 },
 "nbformat": 4,
 "nbformat_minor": 2
}
