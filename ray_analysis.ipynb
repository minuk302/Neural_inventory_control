{
 "cells": [
  {
   "cell_type": "code",
   "execution_count": 21,
   "metadata": {},
   "outputs": [],
   "source": [
    "import os\n",
    "import json\n",
    "import pandas as pd\n",
    "\n",
    "def collect_data(main_folder):\n",
    "    \"\"\" Collects the minimum test loss and corresponding parameters across all subfolders in the main folder. \"\"\"\n",
    "    results = []\n",
    "\n",
    "    # Traverse through each subfolder in the main folder\n",
    "    for subfolder in os.listdir(main_folder):\n",
    "        subfolder_path = os.path.join(main_folder, subfolder)\n",
    "        progress_file = os.path.join(subfolder_path, 'progress.csv')\n",
    "        params_file = os.path.join(subfolder_path, 'params.json')\n",
    "        \n",
    "        # Check if both necessary files exist\n",
    "        if os.path.exists(progress_file) and os.path.exists(params_file):\n",
    "            try:\n",
    "                # Read progress.csv and find the minimum test loss\n",
    "                data = pd.read_csv(progress_file)\n",
    "                if 'test_loss' in data.columns:\n",
    "                    min_loss = data['test_loss'].min()\n",
    "                    # Read params.json\n",
    "                    with open(params_file, 'r') as file:\n",
    "                        params = json.load(file)\n",
    "                        # Collect required params and the corresponding test loss\n",
    "                        result = {\n",
    "                            'learning_rate': params.get('learning_rate'),\n",
    "                            'context_size': params.get('context_size'),\n",
    "                            'samples': params.get('samples'),\n",
    "                            'best_test_loss': min_loss\n",
    "                        }\n",
    "                        results.append(result)\n",
    "            except Exception as e:\n",
    "                print(f\"Error processing files in {subfolder_path}: {e}\")\n",
    "\n",
    "    return results\n",
    "\n",
    "def create_results_table(main_folder):\n",
    "    \"\"\" Creates a table of the minimum test losses for each combination of learning_rate, context_size, and samples. \"\"\"\n",
    "    data = collect_data(main_folder)\n",
    "    if data:\n",
    "        # Create DataFrame from collected data\n",
    "        df = pd.DataFrame(data)\n",
    "        # Group by the parameters and find the row with the minimum test_loss\n",
    "        result_df = df.groupby(['learning_rate', 'context_size', 'samples']).agg({'best_test_loss': 'min'}).reset_index()\n",
    "        sorted_result_df = result_df.sort_values(by='best_test_loss', ascending=True)\n",
    "        print(sorted_result_df)\n",
    "    else:\n",
    "        print(\"No data collected. Check the contents of your directories.\")\n"
   ]
  },
  {
   "cell_type": "code",
   "execution_count": 22,
   "metadata": {},
   "outputs": [
    {
     "name": "stdout",
     "output_type": "stream",
     "text": [
      "   learning_rate  context_size  samples  best_test_loss\n",
      "5         0.0010             8        2        5.604943\n",
      "4         0.0010             8        1        7.172198\n",
      "1         0.0005             8        1        7.583963\n",
      "7         0.0100             8        1        7.768374\n",
      "0         0.0005             8        0        8.799016\n",
      "2         0.0005             8        2        9.354083\n",
      "6         0.0100             8        0       11.646391\n",
      "3         0.0010             8        0       12.060120\n",
      "8         0.0100             8        2       36.306425\n"
     ]
    }
   ],
   "source": [
    "create_results_table(os.getcwd() + '/ray_results/run_2024-07-11_05-11-10')"
   ]
  },
  {
   "cell_type": "code",
   "execution_count": 23,
   "metadata": {},
   "outputs": [
    {
     "name": "stdout",
     "output_type": "stream",
     "text": [
      "    learning_rate  context_size  samples  best_test_loss\n",
      "0          0.0005             4        0        5.605410\n",
      "4          0.0010             4        1        6.441049\n",
      "5          0.0010             4        2        7.344255\n",
      "1          0.0005             4        1        7.762958\n",
      "3          0.0010             4        0        8.088158\n",
      "10         0.0100             4        3       11.489364\n",
      "7          0.0100             4        0       11.512672\n",
      "6          0.0010             4        3       13.766644\n",
      "9          0.0100             4        2       14.642271\n",
      "8          0.0100             4        1       16.623400\n",
      "2          0.0005             4        2       30.744198\n"
     ]
    }
   ],
   "source": [
    "create_results_table('/user/ml4723/Prj/NIC/ray_results/run_2024-07-11_11-39-40')"
   ]
  },
  {
   "cell_type": "code",
   "execution_count": 24,
   "metadata": {},
   "outputs": [
    {
     "name": "stdout",
     "output_type": "stream",
     "text": [
      "    learning_rate  context_size  samples  best_test_loss\n",
      "4          0.0005             2        4        6.900608\n",
      "5          0.0010             2        0        7.325198\n",
      "1          0.0005             2        1        7.735133\n",
      "6          0.0010             2        1        7.857705\n",
      "9          0.0010             2        4        8.699912\n",
      "11         0.0100             2        1       10.317407\n",
      "12         0.0100             2        2       11.460215\n",
      "0          0.0005             2        0       12.818644\n",
      "13         0.0100             2        3       13.487335\n",
      "2          0.0005             2        2       16.386970\n",
      "14         0.0100             2        4       16.590300\n",
      "7          0.0010             2        2       16.957243\n",
      "8          0.0010             2        3       18.019910\n",
      "3          0.0005             2        3       18.183999\n",
      "10         0.0100             2        0       25.067751\n"
     ]
    }
   ],
   "source": [
    "create_results_table('/user/ml4723/Prj/NIC/ray_results/run_2024-07-11_17-01-38')"
   ]
  },
  {
   "cell_type": "markdown",
   "metadata": {},
   "source": [
    "# Below is for n_stores = 50"
   ]
  },
  {
   "cell_type": "code",
   "execution_count": 25,
   "metadata": {},
   "outputs": [
    {
     "name": "stdout",
     "output_type": "stream",
     "text": [
      "   learning_rate  context_size  samples  best_test_loss\n",
      "0         0.0005           128        0        5.412806\n",
      "3         0.0010           128        1        5.415018\n",
      "1         0.0005           128        1        5.506853\n",
      "2         0.0010           128        0        5.781743\n",
      "4         0.0100           128        0        7.152602\n",
      "5         0.0100           128        1       16.189754\n"
     ]
    }
   ],
   "source": [
    "create_results_table('/user/ml4723/Prj/NIC/ray_results/run_2024-07-11_05-27-18')"
   ]
  },
  {
   "cell_type": "code",
   "execution_count": 26,
   "metadata": {},
   "outputs": [
    {
     "name": "stdout",
     "output_type": "stream",
     "text": [
      "   learning_rate  context_size  samples  best_test_loss\n",
      "2         0.0010            64        0        5.409906\n",
      "0         0.0005            64        0        7.076955\n",
      "3         0.0010            64        1        7.972043\n",
      "1         0.0005            64        1        8.897128\n",
      "4         0.0100            64        0       11.613703\n",
      "5         0.0100            64        1       17.898005\n"
     ]
    }
   ],
   "source": [
    "create_results_table('/user/ml4723/Prj/NIC/ray_results/run_2024-07-11_07-52-50')"
   ]
  },
  {
   "cell_type": "code",
   "execution_count": 27,
   "metadata": {},
   "outputs": [
    {
     "name": "stdout",
     "output_type": "stream",
     "text": [
      "   learning_rate  context_size  samples  best_test_loss\n",
      "0         0.0005            32        0        5.411628\n",
      "1         0.0010            32        0        7.393025\n",
      "2         0.0100            32        0       16.262605\n",
      "3         0.0100            32        1       16.342239\n"
     ]
    }
   ],
   "source": [
    "create_results_table('/user/ml4723/Prj/NIC/ray_results/run_2024-07-11_09-41-43')"
   ]
  },
  {
   "cell_type": "code",
   "execution_count": 28,
   "metadata": {},
   "outputs": [
    {
     "name": "stdout",
     "output_type": "stream",
     "text": [
      "    learning_rate  context_size  samples  best_test_loss\n",
      "7          0.0010            16        2        5.412956\n",
      "4          0.0005            16        4        6.980137\n",
      "3          0.0005            16        3        7.714144\n",
      "0          0.0005            16        0        8.068696\n",
      "5          0.0010            16        0        8.379202\n",
      "8          0.0010            16        3        8.604063\n",
      "2          0.0005            16        2       11.359692\n",
      "6          0.0010            16        1       13.784768\n",
      "13         0.0100            16        3       14.719614\n",
      "11         0.0100            16        1       15.860225\n",
      "14         0.0100            16        4       16.307592\n",
      "1          0.0005            16        1       16.750998\n",
      "12         0.0100            16        2       19.036855\n",
      "10         0.0100            16        0       21.494105\n",
      "9          0.0010            16        4       22.327871\n"
     ]
    }
   ],
   "source": [
    "create_results_table('/user/ml4723/Prj/NIC/ray_results/run_2024-07-11_11-52-10')"
   ]
  },
  {
   "cell_type": "code",
   "execution_count": 29,
   "metadata": {},
   "outputs": [
    {
     "name": "stdout",
     "output_type": "stream",
     "text": [
      "    learning_rate  context_size  samples  best_test_loss\n",
      "4          0.0010             8        1        5.413410\n",
      "6          0.0010             8        3        7.537731\n",
      "1          0.0005             8        1        7.735478\n",
      "2          0.0005             8        2        8.919952\n",
      "0          0.0005             8        0       10.710806\n",
      "7          0.0100             8        0       11.243040\n",
      "3          0.0010             8        0       13.570966\n",
      "8          0.0100             8        1       13.993180\n",
      "10         0.0100             8        3       16.343363\n",
      "9          0.0100             8        2       22.620466\n",
      "5          0.0010             8        2       36.146848\n"
     ]
    }
   ],
   "source": [
    "create_results_table('/user/ml4723/Prj/NIC/ray_results/run_2024-07-11_19-32-22')"
   ]
  },
  {
   "cell_type": "code",
   "execution_count": 30,
   "metadata": {},
   "outputs": [
    {
     "name": "stdout",
     "output_type": "stream",
     "text": [
      "   learning_rate  context_size  samples  best_test_loss\n",
      "3         0.0010             4        0        6.828720\n",
      "6         0.0100             4        0        8.461158\n",
      "0         0.0005             4        0        8.570793\n",
      "1         0.0005             4        1       10.900044\n",
      "4         0.0010             4        1       11.170525\n",
      "5         0.0010             4        2       15.930729\n",
      "8         0.0100             4        2       20.107402\n",
      "2         0.0005             4        2       23.392702\n",
      "7         0.0100             4        1       27.114183\n"
     ]
    }
   ],
   "source": [
    "create_results_table('/user/ml4723/Prj/NIC/ray_results/run_2024-07-12_01-44-35')"
   ]
  }
 ],
 "metadata": {
  "kernelspec": {
   "display_name": "Python 3.10.4 ('neural_inventory_control')",
   "language": "python",
   "name": "python3"
  },
  "language_info": {
   "codemirror_mode": {
    "name": "ipython",
    "version": 3
   },
   "file_extension": ".py",
   "mimetype": "text/x-python",
   "name": "python",
   "nbconvert_exporter": "python",
   "pygments_lexer": "ipython3",
   "version": "3.10.4"
  },
  "orig_nbformat": 4,
  "vscode": {
   "interpreter": {
    "hash": "295131613949c3a10f810057b447f8c1d2f9ae56e2b2c791b6162e59dbe65d0e"
   }
  }
 },
 "nbformat": 4,
 "nbformat_minor": 2
}
